{
 "cells": [
  {
   "cell_type": "markdown",
   "metadata": {},
   "source": [
    "# **Spanish High Speed Rail tickets pricing - Renfe**\n",
    "\n",
    "   #### Ticket pricing for routes\n",
    "   _Author: Keyla Méndez_ | _Oct-2019_"
   ]
  },
  {
   "cell_type": "markdown",
   "metadata": {},
   "source": [
    "**Machine Learning Project.**\n",
    "\n",
    "The objective is to predict the value of the AVE ticket in advance, taking into account the previous values. \n",
    "\n",
    "**Dataset**\n",
    "\n",
    "The dataset is available in CSV format in [Kaggle](https://www.kaggle.com/thegurusteam/spanish-high-speed-rail-system-ticket-pricing ) \n",
    "\n",
    "CSV data file: the data is obtained from the ticket price monitoring system of the Spanish High Speed Train Service (Renfe AVE).\n"
   ]
  },
  {
   "cell_type": "markdown",
   "metadata": {},
   "source": [
    "**Contents** \n",
    "\n",
    "* insert_date: date and time when the price was collected and written in the database, scrapping time (UTC)\n",
    "* origin: origin city\n",
    "* destination: destination city\n",
    "* start_date: train departure time (European Central Time)\n",
    "* end_date: train arrival time (European Central Time)\n",
    "* train_type: train service name\n",
    "* price: price (euros)\n",
    "* train_class: ticket class, tourist, business, etc.\n",
    "* fare: ticket fare, round trip, etc."
   ]
  },
  {
   "cell_type": "code",
   "execution_count": 49,
   "metadata": {},
   "outputs": [],
   "source": [
    "import pandas as pd #data processing, csv file\n",
    "import numpy as np # linear algebra \n",
    "import matplotlib.pyplot as plt\n",
    "import seaborn as sns #;sns.set() #visualization \n",
    "import os\n",
    "#PLotly\n",
    "import plotly as py \n",
    "import plotly.graph_objects as go\n",
    "import plotly.express as px "
   ]
  },
  {
   "cell_type": "code",
   "execution_count": 2,
   "metadata": {},
   "outputs": [],
   "source": [
    "#load data\n",
    "data = pd.read_csv(\"C:/Users/KEYLA/Documents/FINAL PROJECT/renfe.csv\")"
   ]
  },
  {
   "cell_type": "code",
   "execution_count": 3,
   "metadata": {},
   "outputs": [
    {
     "data": {
      "text/html": [
       "<div>\n",
       "<style scoped>\n",
       "    .dataframe tbody tr th:only-of-type {\n",
       "        vertical-align: middle;\n",
       "    }\n",
       "\n",
       "    .dataframe tbody tr th {\n",
       "        vertical-align: top;\n",
       "    }\n",
       "\n",
       "    .dataframe thead th {\n",
       "        text-align: right;\n",
       "    }\n",
       "</style>\n",
       "<table border=\"1\" class=\"dataframe\">\n",
       "  <thead>\n",
       "    <tr style=\"text-align: right;\">\n",
       "      <th></th>\n",
       "      <th>insert_date</th>\n",
       "      <th>origin</th>\n",
       "      <th>destination</th>\n",
       "      <th>start_date</th>\n",
       "      <th>end_date</th>\n",
       "      <th>train_type</th>\n",
       "      <th>price</th>\n",
       "      <th>train_class</th>\n",
       "      <th>fare</th>\n",
       "    </tr>\n",
       "  </thead>\n",
       "  <tbody>\n",
       "    <tr>\n",
       "      <td>0</td>\n",
       "      <td>2019-04-11 21:49:46</td>\n",
       "      <td>MADRID</td>\n",
       "      <td>BARCELONA</td>\n",
       "      <td>2019-04-18 05:50:00</td>\n",
       "      <td>2019-04-18 08:55:00</td>\n",
       "      <td>AVE</td>\n",
       "      <td>68.95</td>\n",
       "      <td>Preferente</td>\n",
       "      <td>Promo</td>\n",
       "    </tr>\n",
       "    <tr>\n",
       "      <td>1</td>\n",
       "      <td>2019-04-11 21:49:46</td>\n",
       "      <td>MADRID</td>\n",
       "      <td>BARCELONA</td>\n",
       "      <td>2019-04-18 06:30:00</td>\n",
       "      <td>2019-04-18 09:20:00</td>\n",
       "      <td>AVE</td>\n",
       "      <td>75.40</td>\n",
       "      <td>Turista</td>\n",
       "      <td>Promo</td>\n",
       "    </tr>\n",
       "    <tr>\n",
       "      <td>2</td>\n",
       "      <td>2019-04-11 21:49:46</td>\n",
       "      <td>MADRID</td>\n",
       "      <td>BARCELONA</td>\n",
       "      <td>2019-04-18 07:00:00</td>\n",
       "      <td>2019-04-18 09:30:00</td>\n",
       "      <td>AVE</td>\n",
       "      <td>106.75</td>\n",
       "      <td>Turista Plus</td>\n",
       "      <td>Promo</td>\n",
       "    </tr>\n",
       "    <tr>\n",
       "      <td>3</td>\n",
       "      <td>2019-04-11 21:49:46</td>\n",
       "      <td>MADRID</td>\n",
       "      <td>BARCELONA</td>\n",
       "      <td>2019-04-18 07:30:00</td>\n",
       "      <td>2019-04-18 10:40:00</td>\n",
       "      <td>AVE</td>\n",
       "      <td>90.50</td>\n",
       "      <td>Turista Plus</td>\n",
       "      <td>Promo</td>\n",
       "    </tr>\n",
       "    <tr>\n",
       "      <td>4</td>\n",
       "      <td>2019-04-11 21:49:46</td>\n",
       "      <td>MADRID</td>\n",
       "      <td>BARCELONA</td>\n",
       "      <td>2019-04-18 08:00:00</td>\n",
       "      <td>2019-04-18 10:30:00</td>\n",
       "      <td>AVE</td>\n",
       "      <td>88.95</td>\n",
       "      <td>Turista</td>\n",
       "      <td>Promo</td>\n",
       "    </tr>\n",
       "  </tbody>\n",
       "</table>\n",
       "</div>"
      ],
      "text/plain": [
       "           insert_date  origin destination           start_date  \\\n",
       "0  2019-04-11 21:49:46  MADRID   BARCELONA  2019-04-18 05:50:00   \n",
       "1  2019-04-11 21:49:46  MADRID   BARCELONA  2019-04-18 06:30:00   \n",
       "2  2019-04-11 21:49:46  MADRID   BARCELONA  2019-04-18 07:00:00   \n",
       "3  2019-04-11 21:49:46  MADRID   BARCELONA  2019-04-18 07:30:00   \n",
       "4  2019-04-11 21:49:46  MADRID   BARCELONA  2019-04-18 08:00:00   \n",
       "\n",
       "              end_date train_type   price   train_class   fare  \n",
       "0  2019-04-18 08:55:00        AVE   68.95    Preferente  Promo  \n",
       "1  2019-04-18 09:20:00        AVE   75.40       Turista  Promo  \n",
       "2  2019-04-18 09:30:00        AVE  106.75  Turista Plus  Promo  \n",
       "3  2019-04-18 10:40:00        AVE   90.50  Turista Plus  Promo  \n",
       "4  2019-04-18 10:30:00        AVE   88.95       Turista  Promo  "
      ]
     },
     "execution_count": 3,
     "metadata": {},
     "output_type": "execute_result"
    }
   ],
   "source": [
    "#Check the data \n",
    "data.head()"
   ]
  },
  {
   "cell_type": "code",
   "execution_count": 4,
   "metadata": {
    "scrolled": true
   },
   "outputs": [
    {
     "data": {
      "text/plain": [
       "Index(['insert_date', 'origin', 'destination', 'start_date', 'end_date',\n",
       "       'train_type', 'price', 'train_class', 'fare'],\n",
       "      dtype='object')"
      ]
     },
     "execution_count": 4,
     "metadata": {},
     "output_type": "execute_result"
    }
   ],
   "source": [
    "data.columns"
   ]
  },
  {
   "cell_type": "code",
   "execution_count": 5,
   "metadata": {},
   "outputs": [
    {
     "data": {
      "text/plain": [
       "insert_date     object\n",
       "origin          object\n",
       "destination     object\n",
       "start_date      object\n",
       "end_date        object\n",
       "train_type      object\n",
       "price          float64\n",
       "train_class     object\n",
       "fare            object\n",
       "dtype: object"
      ]
     },
     "execution_count": 5,
     "metadata": {},
     "output_type": "execute_result"
    }
   ],
   "source": [
    "#Data information\n",
    "data.dtypes\n",
    "#data.info()"
   ]
  },
  {
   "cell_type": "markdown",
   "metadata": {},
   "source": [
    "It can convert the columns that are of datetime type using a function and change the type. "
   ]
  },
  {
   "cell_type": "code",
   "execution_count": 6,
   "metadata": {},
   "outputs": [],
   "source": [
    "def convert_date(data): \n",
    "    return pd.to_datetime(data)"
   ]
  },
  {
   "cell_type": "code",
   "execution_count": 7,
   "metadata": {},
   "outputs": [],
   "source": [
    "data.insert_date = convert_date(data.insert_date)\n",
    "data.start_date = convert_date(data.start_date)\n",
    "data.end_date = convert_date(data.end_date)"
   ]
  },
  {
   "cell_type": "code",
   "execution_count": 8,
   "metadata": {
    "scrolled": true
   },
   "outputs": [
    {
     "data": {
      "text/plain": [
       "insert_date    datetime64[ns]\n",
       "origin                 object\n",
       "destination            object\n",
       "start_date     datetime64[ns]\n",
       "end_date       datetime64[ns]\n",
       "train_type             object\n",
       "price                 float64\n",
       "train_class            object\n",
       "fare                   object\n",
       "dtype: object"
      ]
     },
     "execution_count": 8,
     "metadata": {},
     "output_type": "execute_result"
    }
   ],
   "source": [
    "#Check the conversion to date \n",
    "data.dtypes #Done!"
   ]
  },
  {
   "cell_type": "code",
   "execution_count": 9,
   "metadata": {},
   "outputs": [
    {
     "data": {
      "text/html": [
       "<div>\n",
       "<style scoped>\n",
       "    .dataframe tbody tr th:only-of-type {\n",
       "        vertical-align: middle;\n",
       "    }\n",
       "\n",
       "    .dataframe tbody tr th {\n",
       "        vertical-align: top;\n",
       "    }\n",
       "\n",
       "    .dataframe thead th {\n",
       "        text-align: right;\n",
       "    }\n",
       "</style>\n",
       "<table border=\"1\" class=\"dataframe\">\n",
       "  <thead>\n",
       "    <tr style=\"text-align: right;\">\n",
       "      <th></th>\n",
       "      <th>insert_date</th>\n",
       "      <th>origin</th>\n",
       "      <th>destination</th>\n",
       "      <th>start_date</th>\n",
       "      <th>end_date</th>\n",
       "      <th>train_type</th>\n",
       "      <th>price</th>\n",
       "      <th>train_class</th>\n",
       "      <th>fare</th>\n",
       "      <th>origin_dest</th>\n",
       "    </tr>\n",
       "  </thead>\n",
       "  <tbody>\n",
       "    <tr>\n",
       "      <td>0</td>\n",
       "      <td>2019-04-11 21:49:46</td>\n",
       "      <td>MADRID</td>\n",
       "      <td>BARCELONA</td>\n",
       "      <td>2019-04-18 05:50:00</td>\n",
       "      <td>2019-04-18 08:55:00</td>\n",
       "      <td>AVE</td>\n",
       "      <td>68.95</td>\n",
       "      <td>Preferente</td>\n",
       "      <td>Promo</td>\n",
       "      <td>MADRID-BARCELONA</td>\n",
       "    </tr>\n",
       "    <tr>\n",
       "      <td>1</td>\n",
       "      <td>2019-04-11 21:49:46</td>\n",
       "      <td>MADRID</td>\n",
       "      <td>BARCELONA</td>\n",
       "      <td>2019-04-18 06:30:00</td>\n",
       "      <td>2019-04-18 09:20:00</td>\n",
       "      <td>AVE</td>\n",
       "      <td>75.40</td>\n",
       "      <td>Turista</td>\n",
       "      <td>Promo</td>\n",
       "      <td>MADRID-BARCELONA</td>\n",
       "    </tr>\n",
       "  </tbody>\n",
       "</table>\n",
       "</div>"
      ],
      "text/plain": [
       "          insert_date  origin destination          start_date  \\\n",
       "0 2019-04-11 21:49:46  MADRID   BARCELONA 2019-04-18 05:50:00   \n",
       "1 2019-04-11 21:49:46  MADRID   BARCELONA 2019-04-18 06:30:00   \n",
       "\n",
       "             end_date train_type  price train_class   fare       origin_dest  \n",
       "0 2019-04-18 08:55:00        AVE  68.95  Preferente  Promo  MADRID-BARCELONA  \n",
       "1 2019-04-18 09:20:00        AVE  75.40     Turista  Promo  MADRID-BARCELONA  "
      ]
     },
     "execution_count": 9,
     "metadata": {},
     "output_type": "execute_result"
    }
   ],
   "source": [
    "#Create a column 'origin_destination'\n",
    "data['origin_dest'] = data.origin + '-' + data.destination\n",
    "data.head(2)"
   ]
  },
  {
   "cell_type": "code",
   "execution_count": 10,
   "metadata": {},
   "outputs": [
    {
     "name": "stdout",
     "output_type": "stream",
     "text": [
      "Unique Value Origin-Destination: ['MADRID-BARCELONA' 'MADRID-SEVILLA' 'MADRID-VALENCIA' 'SEVILLA-MADRID'\n",
      " 'MADRID-PONFERRADA' 'BARCELONA-MADRID' 'VALENCIA-MADRID'\n",
      " 'PONFERRADA-MADRID']\n"
     ]
    }
   ],
   "source": [
    "print(f'Unique Value Origin-Destination: {data.origin_dest.unique()}' )"
   ]
  },
  {
   "cell_type": "markdown",
   "metadata": {
    "jupyter": {
     "source_hidden": true
    }
   },
   "source": [
    "We can see that Madrid is a key station where people travel to and from MADRID to all other\n",
    "places."
   ]
  },
  {
   "cell_type": "markdown",
   "metadata": {},
   "source": [
    "#### Data  Visualization"
   ]
  },
  {
   "cell_type": "markdown",
   "metadata": {},
   "source": [
    "Here we can see the distribution of prices in Fare and Train_class"
   ]
  },
  {
   "cell_type": "code",
   "execution_count": 15,
   "metadata": {
    "hideCode": true,
    "jupyter": {
     "source_hidden": true
    }
   },
   "outputs": [
    {
     "data": {
      "text/plain": [
       "<matplotlib.axes._subplots.AxesSubplot at 0x1980eb68588>"
      ]
     },
     "execution_count": 15,
     "metadata": {},
     "output_type": "execute_result"
    },
    {
     "data": {
      "image/png": "[encoded data removed]",
      "text/plain": [
       "<Figure size 1440x360 with 1 Axes>"
      ]
     },
     "metadata": {
      "needs_background": "light"
     },
     "output_type": "display_data"
    }
   ],
   "source": [
    "#fig, ax = plt.subplots(figsize=[20,5])\n",
    "#sns.barplot(x=\"fare\", y=\"price\", data=data, ax = ax)\n",
    "#data['fare'].value_counts().plot.bar()"
   ]
  },
  {
   "cell_type": "code",
   "execution_count": 16,
   "metadata": {
    "hideCode": true,
    "jupyter": {
     "source_hidden": true
    }
   },
   "outputs": [
    {
     "data": {
      "text/plain": [
       "<matplotlib.axes._subplots.AxesSubplot at 0x1980ebae4e0>"
      ]
     },
     "execution_count": 16,
     "metadata": {},
     "output_type": "execute_result"
    },
    {
     "data": {
      "image/png": "[encoded data removed]",
      "text/plain": [
       "<Figure size 1440x360 with 1 Axes>"
      ]
     },
     "metadata": {
      "needs_background": "light"
     },
     "output_type": "display_data"
    }
   ],
   "source": [
    "#fig, ax = plt.subplots(figsize=[20,5])\n",
    "#sns.barplot(x=\"train_class\", y=\"price\", data=data, ax = ax)"
   ]
  },
  {
   "cell_type": "markdown",
   "metadata": {},
   "source": [
    "Distribution"
   ]
  },
  {
   "cell_type": "code",
   "execution_count": 13,
   "metadata": {
    "hideCode": true,
    "jupyter": {
     "source_hidden": true
    }
   },
   "outputs": [
    {
     "data": {
      "text/plain": [
       "Text(0, 0.5, 'Number of trips')"
      ]
     },
     "execution_count": 13,
     "metadata": {},
     "output_type": "execute_result"
    },
    {
     "data": {
      "image/png": "[encoded data removed]",
      "text/plain": [
       "<Figure size 864x720 with 1 Axes>"
      ]
     },
     "metadata": {
      "needs_background": "light"
     },
     "output_type": "display_data"
    }
   ],
   "source": [
    "#data['train_class'].value_counts().plot.bar() (basic plot)\n",
    "check  = data['train_class'].value_counts()\n",
    "plt.figure(figsize=(12,10))\n",
    "sns.barplot(check.index, check.values, palette = \"Dark2\")\n",
    "plt.xticks(rotation='vertical', fontsize= 12)\n",
    "plt.title('Travels by train_class', fontsize= 14)\n",
    "plt.ylabel('Number of trips', fontsize= 14)"
   ]
  },
  {
   "cell_type": "code",
   "execution_count": 11,
   "metadata": {},
   "outputs": [
    {
     "data": {
      "text/plain": [
       "Turista                     5818271\n",
       "Preferente                   745890\n",
       "Turista Plus                 539701\n",
       "Turista con enlace           473699\n",
       "TuristaSólo plaza H           53960\n",
       "PreferenteSólo plaza H         6739\n",
       "Cama Turista                   6137\n",
       "Cama G. Clase                   245\n",
       "Turista PlusSólo plaza H         22\n",
       "Name: train_class, dtype: int64"
      ]
     },
     "execution_count": 11,
     "metadata": {},
     "output_type": "execute_result"
    }
   ],
   "source": [
    "data['train_class'].value_counts()"
   ]
  },
  {
   "cell_type": "markdown",
   "metadata": {},
   "source": [
    "#### **Missing Values**"
   ]
  },
  {
   "cell_type": "markdown",
   "metadata": {},
   "source": [
    "Let's take a look at all the columns with missing values, and decide whether to remove any row based on missing values."
   ]
  },
  {
   "cell_type": "code",
   "execution_count": 12,
   "metadata": {},
   "outputs": [
    {
     "data": {
      "text/plain": [
       "insert_date         0\n",
       "origin              0\n",
       "destination         0\n",
       "start_date          0\n",
       "end_date            0\n",
       "train_type          0\n",
       "price          573121\n",
       "train_class     26690\n",
       "fare            26690\n",
       "origin_dest         0\n",
       "dtype: int64"
      ]
     },
     "execution_count": 12,
     "metadata": {},
     "output_type": "execute_result"
    }
   ],
   "source": [
    "data.isna().sum()"
   ]
  },
  {
   "cell_type": "code",
   "execution_count": 13,
   "metadata": {},
   "outputs": [
    {
     "data": {
      "text/html": [
       "<div>\n",
       "<style scoped>\n",
       "    .dataframe tbody tr th:only-of-type {\n",
       "        vertical-align: middle;\n",
       "    }\n",
       "\n",
       "    .dataframe tbody tr th {\n",
       "        vertical-align: top;\n",
       "    }\n",
       "\n",
       "    .dataframe thead th {\n",
       "        text-align: right;\n",
       "    }\n",
       "</style>\n",
       "<table border=\"1\" class=\"dataframe\">\n",
       "  <thead>\n",
       "    <tr style=\"text-align: right;\">\n",
       "      <th></th>\n",
       "      <th>insert_date</th>\n",
       "      <th>origin</th>\n",
       "      <th>destination</th>\n",
       "      <th>start_date</th>\n",
       "      <th>end_date</th>\n",
       "      <th>train_type</th>\n",
       "      <th>price</th>\n",
       "      <th>train_class</th>\n",
       "      <th>fare</th>\n",
       "      <th>origin_dest</th>\n",
       "    </tr>\n",
       "  </thead>\n",
       "  <tbody>\n",
       "    <tr>\n",
       "      <td>13</td>\n",
       "      <td>2019-04-11 21:49:46</td>\n",
       "      <td>MADRID</td>\n",
       "      <td>BARCELONA</td>\n",
       "      <td>2019-04-18 15:30:00</td>\n",
       "      <td>2019-04-18 18:40:00</td>\n",
       "      <td>AVE</td>\n",
       "      <td>NaN</td>\n",
       "      <td>Preferente</td>\n",
       "      <td>Promo</td>\n",
       "      <td>MADRID-BARCELONA</td>\n",
       "    </tr>\n",
       "    <tr>\n",
       "      <td>20</td>\n",
       "      <td>2019-04-11 21:49:46</td>\n",
       "      <td>MADRID</td>\n",
       "      <td>BARCELONA</td>\n",
       "      <td>2019-04-18 21:25:00</td>\n",
       "      <td>2019-04-18 23:55:00</td>\n",
       "      <td>AVE</td>\n",
       "      <td>NaN</td>\n",
       "      <td>NaN</td>\n",
       "      <td>NaN</td>\n",
       "      <td>MADRID-BARCELONA</td>\n",
       "    </tr>\n",
       "    <tr>\n",
       "      <td>71</td>\n",
       "      <td>2019-04-11 21:50:04</td>\n",
       "      <td>MADRID</td>\n",
       "      <td>BARCELONA</td>\n",
       "      <td>2019-04-22 08:30:00</td>\n",
       "      <td>2019-04-22 11:15:00</td>\n",
       "      <td>AVE</td>\n",
       "      <td>NaN</td>\n",
       "      <td>Preferente</td>\n",
       "      <td>Promo</td>\n",
       "      <td>MADRID-BARCELONA</td>\n",
       "    </tr>\n",
       "    <tr>\n",
       "      <td>103</td>\n",
       "      <td>2019-04-11 21:50:20</td>\n",
       "      <td>MADRID</td>\n",
       "      <td>BARCELONA</td>\n",
       "      <td>2019-04-27 18:30:00</td>\n",
       "      <td>2019-04-27 21:20:00</td>\n",
       "      <td>AVE</td>\n",
       "      <td>NaN</td>\n",
       "      <td>Preferente</td>\n",
       "      <td>Promo</td>\n",
       "      <td>MADRID-BARCELONA</td>\n",
       "    </tr>\n",
       "    <tr>\n",
       "      <td>105</td>\n",
       "      <td>2019-04-11 21:50:20</td>\n",
       "      <td>MADRID</td>\n",
       "      <td>BARCELONA</td>\n",
       "      <td>2019-04-27 20:30:00</td>\n",
       "      <td>2019-04-27 23:40:00</td>\n",
       "      <td>AVE</td>\n",
       "      <td>NaN</td>\n",
       "      <td>Preferente</td>\n",
       "      <td>Promo</td>\n",
       "      <td>MADRID-BARCELONA</td>\n",
       "    </tr>\n",
       "  </tbody>\n",
       "</table>\n",
       "</div>"
      ],
      "text/plain": [
       "            insert_date  origin destination          start_date  \\\n",
       "13  2019-04-11 21:49:46  MADRID   BARCELONA 2019-04-18 15:30:00   \n",
       "20  2019-04-11 21:49:46  MADRID   BARCELONA 2019-04-18 21:25:00   \n",
       "71  2019-04-11 21:50:04  MADRID   BARCELONA 2019-04-22 08:30:00   \n",
       "103 2019-04-11 21:50:20  MADRID   BARCELONA 2019-04-27 18:30:00   \n",
       "105 2019-04-11 21:50:20  MADRID   BARCELONA 2019-04-27 20:30:00   \n",
       "\n",
       "               end_date train_type  price train_class   fare       origin_dest  \n",
       "13  2019-04-18 18:40:00        AVE    NaN  Preferente  Promo  MADRID-BARCELONA  \n",
       "20  2019-04-18 23:55:00        AVE    NaN         NaN    NaN  MADRID-BARCELONA  \n",
       "71  2019-04-22 11:15:00        AVE    NaN  Preferente  Promo  MADRID-BARCELONA  \n",
       "103 2019-04-27 21:20:00        AVE    NaN  Preferente  Promo  MADRID-BARCELONA  \n",
       "105 2019-04-27 23:40:00        AVE    NaN  Preferente  Promo  MADRID-BARCELONA  "
      ]
     },
     "execution_count": 13,
     "metadata": {},
     "output_type": "execute_result"
    }
   ],
   "source": [
    "#View rows with missing data \n",
    "data[data.isna().any(axis=1)].head()"
   ]
  },
  {
   "cell_type": "markdown",
   "metadata": {
    "jupyter": {
     "source_hidden": true
    }
   },
   "source": [
    "\n",
    "First setp will be to find the average price for each combination So, this can be done by using **groupby** function."
   ]
  },
  {
   "cell_type": "code",
   "execution_count": 14,
   "metadata": {},
   "outputs": [],
   "source": [
    "#Average price train between Type, Class and Fare.\n",
    "avgPrice_train = data[~np.isnan(data['price'])].groupby(['origin','destination','train_type','train_class','fare']).agg({'price':np.mean})"
   ]
  },
  {
   "cell_type": "code",
   "execution_count": 15,
   "metadata": {},
   "outputs": [
    {
     "data": {
      "text/html": [
       "<div>\n",
       "<style scoped>\n",
       "    .dataframe tbody tr th:only-of-type {\n",
       "        vertical-align: middle;\n",
       "    }\n",
       "\n",
       "    .dataframe tbody tr th {\n",
       "        vertical-align: top;\n",
       "    }\n",
       "\n",
       "    .dataframe thead th {\n",
       "        text-align: right;\n",
       "    }\n",
       "</style>\n",
       "<table border=\"1\" class=\"dataframe\">\n",
       "  <thead>\n",
       "    <tr style=\"text-align: right;\">\n",
       "      <th></th>\n",
       "      <th></th>\n",
       "      <th></th>\n",
       "      <th></th>\n",
       "      <th></th>\n",
       "      <th>price</th>\n",
       "    </tr>\n",
       "    <tr>\n",
       "      <th>origin</th>\n",
       "      <th>destination</th>\n",
       "      <th>train_type</th>\n",
       "      <th>train_class</th>\n",
       "      <th>fare</th>\n",
       "      <th></th>\n",
       "    </tr>\n",
       "  </thead>\n",
       "  <tbody>\n",
       "    <tr>\n",
       "      <td rowspan=\"5\" valign=\"top\">BARCELONA</td>\n",
       "      <td rowspan=\"5\" valign=\"top\">MADRID</td>\n",
       "      <td rowspan=\"5\" valign=\"top\">AVE</td>\n",
       "      <td rowspan=\"5\" valign=\"top\">Preferente</td>\n",
       "      <td>COD.PROMOCIONAL</td>\n",
       "      <td>111.100000</td>\n",
       "    </tr>\n",
       "    <tr>\n",
       "      <td>Flexible</td>\n",
       "      <td>182.656385</td>\n",
       "    </tr>\n",
       "    <tr>\n",
       "      <td>Grupos Ida</td>\n",
       "      <td>145.200000</td>\n",
       "    </tr>\n",
       "    <tr>\n",
       "      <td>Mesa</td>\n",
       "      <td>290.400000</td>\n",
       "    </tr>\n",
       "    <tr>\n",
       "      <td>Promo</td>\n",
       "      <td>95.806480</td>\n",
       "    </tr>\n",
       "  </tbody>\n",
       "</table>\n",
       "</div>"
      ],
      "text/plain": [
       "                                                                   price\n",
       "origin    destination train_type train_class fare                       \n",
       "BARCELONA MADRID      AVE        Preferente  COD.PROMOCIONAL  111.100000\n",
       "                                             Flexible         182.656385\n",
       "                                             Grupos Ida       145.200000\n",
       "                                             Mesa             290.400000\n",
       "                                             Promo             95.806480"
      ]
     },
     "execution_count": 15,
     "metadata": {},
     "output_type": "execute_result"
    }
   ],
   "source": [
    "avgPrice_train.head()"
   ]
  },
  {
   "cell_type": "code",
   "execution_count": 16,
   "metadata": {},
   "outputs": [],
   "source": [
    "#Fill the missed value in the \"fare\" column with the value has the most frequency\n",
    "data['fare'].fillna(data['fare'].mode()[0],inplace=True)"
   ]
  },
  {
   "cell_type": "code",
   "execution_count": 17,
   "metadata": {},
   "outputs": [],
   "source": [
    "#Fill the missed value in the \"train_class\" column with the value has the most frequency\n",
    "data['train_class'].fillna(data['train_class'].mode()[0],inplace=True)"
   ]
  },
  {
   "cell_type": "code",
   "execution_count": 18,
   "metadata": {},
   "outputs": [],
   "source": [
    "#Fill the missed value in the \"price\" column with mean of the ticket price.\n",
    "data.loc[data.price.isnull(), 'price'] = data.groupby(['fare']).price.transform('mean')"
   ]
  },
  {
   "cell_type": "code",
   "execution_count": 19,
   "metadata": {},
   "outputs": [
    {
     "data": {
      "text/plain": [
       "insert_date    0\n",
       "origin         0\n",
       "destination    0\n",
       "start_date     0\n",
       "end_date       0\n",
       "train_type     0\n",
       "price          0\n",
       "train_class    0\n",
       "fare           0\n",
       "origin_dest    0\n",
       "dtype: int64"
      ]
     },
     "execution_count": 19,
     "metadata": {},
     "output_type": "execute_result"
    }
   ],
   "source": [
    "data.isnull().sum()"
   ]
  },
  {
   "cell_type": "markdown",
   "metadata": {},
   "source": [
    "**Feature Engineering** "
   ]
  },
  {
   "cell_type": "code",
   "execution_count": 20,
   "metadata": {},
   "outputs": [],
   "source": [
    "for i in [\"insert_date\", \"start_date\", \"end_date\"]:\n",
    "    data[i + \"_hour\"] = data[i].dt.hour\n",
    "    data[i + \"_minute\"] = data[i].dt.minute\n",
    "    data[i + \"_weekday\"] = data[i].dt.weekday_name\n",
    "    data[i + \"_day\"] = data[i].dt.day\n",
    "    data[i + \"_month\"] = data[i].dt.month\n",
    "    "
   ]
  },
  {
   "cell_type": "markdown",
   "metadata": {},
   "source": [
    "I splitted the data date by timestamp and now let's see on which day, hour or weekday people travel more."
   ]
  },
  {
   "cell_type": "code",
   "execution_count": 22,
   "metadata": {
    "hideCode": true,
    "jupyter": {
     "source_hidden": true
    }
   },
   "outputs": [
    {
     "data": {
      "image/png": "[encoded data removed]",
      "text/plain": [
       "<Figure size 864x720 with 1 Axes>"
      ]
     },
     "metadata": {
      "needs_background": "light"
     },
     "output_type": "display_data"
    }
   ],
   "source": [
    "#Hours \n",
    "by_hours  = data['start_date'].dt.hour.value_counts()\n",
    "plt.figure(figsize=(12,10))\n",
    "sns.barplot(by_hours.index, by_hours.values, palette = \"Dark2\")\n",
    "plt.title('Travel hours frequency',fontsize=18 )\n",
    "plt.xlabel(\"Hour\", fontsize=12)\n",
    "plt.ylabel(\"Number of trips\", fontsize=12)\n",
    "plt.show()"
   ]
  },
  {
   "cell_type": "markdown",
   "metadata": {
    "jupyter": {
     "source_hidden": true
    }
   },
   "source": [
    "Majority of people travel at 9am and 5pm. "
   ]
  },
  {
   "cell_type": "code",
   "execution_count": 38,
   "metadata": {
    "hideCode": true,
    "jupyter": {
     "source_hidden": true
    }
   },
   "outputs": [
    {
     "data": {
      "image/png": "[encoded data removed]",
      "text/plain": [
       "<Figure size 1080x720 with 1 Axes>"
      ]
     },
     "metadata": {
      "needs_background": "light"
     },
     "output_type": "display_data"
    }
   ],
   "source": [
    "week_day = data[\"start_date_weekday\"].value_counts()\n",
    "plt.figure(figsize=(15,10))\n",
    "sns.barplot(week_day.index, week_day.values, palette = \"Dark2\")\n",
    "plt.title('Weekday with most route', fontsize = 16)\n",
    "plt.ylabel(\"Number of trips\", fontsize=15)\n",
    "#plt.xticks(rotation='vertical')\n",
    "plt.show()"
   ]
  },
  {
   "cell_type": "markdown",
   "metadata": {},
   "source": [
    "People travel mainly on Thursady and Friday"
   ]
  },
  {
   "cell_type": "code",
   "execution_count": 23,
   "metadata": {
    "jupyter": {
     "source_hidden": true
    }
   },
   "outputs": [
    {
     "data": {
      "text/plain": [
       "Thursday     1189780\n",
       "Friday       1169475\n",
       "Tuesday      1149112\n",
       "Wednesday    1148121\n",
       "Monday       1135541\n",
       "Sunday       1064096\n",
       "Saturday      815229\n",
       "Name: start_date_weekday, dtype: int64"
      ]
     },
     "execution_count": 23,
     "metadata": {},
     "output_type": "execute_result"
    }
   ],
   "source": [
    "data['start_date_weekday'].value_counts()"
   ]
  },
  {
   "cell_type": "markdown",
   "metadata": {},
   "source": [
    "**Now, let's see which route is the most preferred by travellers**"
   ]
  },
  {
   "cell_type": "code",
   "execution_count": 21,
   "metadata": {},
   "outputs": [
    {
     "data": {
      "text/plain": [
       "MADRID To BARCELONA    1278936\n",
       "BARCELONA To MADRID    1232526\n",
       "MADRID To SEVILLA      1218280\n",
       "SEVILLA To MADRID      1213981\n",
       "MADRID To VALENCIA     1161004\n",
       "dtype: int64"
      ]
     },
     "execution_count": 21,
     "metadata": {},
     "output_type": "execute_result"
    }
   ],
   "source": [
    "route = data['origin'] + ' To ' + data['destination']\n",
    "route.value_counts().head()"
   ]
  },
  {
   "cell_type": "code",
   "execution_count": 22,
   "metadata": {
    "jupyter": {
     "source_hidden": true
    }
   },
   "outputs": [
    {
     "data": {
      "text/html": [
       "<div>\n",
       "<style scoped>\n",
       "    .dataframe tbody tr th:only-of-type {\n",
       "        vertical-align: middle;\n",
       "    }\n",
       "\n",
       "    .dataframe tbody tr th {\n",
       "        vertical-align: top;\n",
       "    }\n",
       "\n",
       "    .dataframe thead tr th {\n",
       "        text-align: left;\n",
       "    }\n",
       "\n",
       "    .dataframe thead tr:last-of-type th {\n",
       "        text-align: right;\n",
       "    }\n",
       "</style>\n",
       "<table border=\"1\" class=\"dataframe\">\n",
       "  <thead>\n",
       "    <tr>\n",
       "      <th></th>\n",
       "      <th></th>\n",
       "      <th colspan=\"2\" halign=\"left\">price</th>\n",
       "    </tr>\n",
       "    <tr>\n",
       "      <th></th>\n",
       "      <th></th>\n",
       "      <th>count</th>\n",
       "      <th>mean</th>\n",
       "    </tr>\n",
       "    <tr>\n",
       "      <th>origin</th>\n",
       "      <th>destination</th>\n",
       "      <th></th>\n",
       "      <th></th>\n",
       "    </tr>\n",
       "  </thead>\n",
       "  <tbody>\n",
       "    <tr>\n",
       "      <td>BARCELONA</td>\n",
       "      <td>MADRID</td>\n",
       "      <td>1232526</td>\n",
       "      <td>84.959360</td>\n",
       "    </tr>\n",
       "    <tr>\n",
       "      <td rowspan=\"4\" valign=\"top\">MADRID</td>\n",
       "      <td>BARCELONA</td>\n",
       "      <td>1278936</td>\n",
       "      <td>85.287372</td>\n",
       "    </tr>\n",
       "    <tr>\n",
       "      <td>PONFERRADA</td>\n",
       "      <td>180523</td>\n",
       "      <td>46.466160</td>\n",
       "    </tr>\n",
       "    <tr>\n",
       "      <td>SEVILLA</td>\n",
       "      <td>1218280</td>\n",
       "      <td>59.599364</td>\n",
       "    </tr>\n",
       "    <tr>\n",
       "      <td>VALENCIA</td>\n",
       "      <td>1161004</td>\n",
       "      <td>42.749956</td>\n",
       "    </tr>\n",
       "    <tr>\n",
       "      <td>PONFERRADA</td>\n",
       "      <td>MADRID</td>\n",
       "      <td>320202</td>\n",
       "      <td>47.026325</td>\n",
       "    </tr>\n",
       "    <tr>\n",
       "      <td>SEVILLA</td>\n",
       "      <td>MADRID</td>\n",
       "      <td>1213981</td>\n",
       "      <td>58.259166</td>\n",
       "    </tr>\n",
       "    <tr>\n",
       "      <td>VALENCIA</td>\n",
       "      <td>MADRID</td>\n",
       "      <td>1065902</td>\n",
       "      <td>40.462567</td>\n",
       "    </tr>\n",
       "  </tbody>\n",
       "</table>\n",
       "</div>"
      ],
      "text/plain": [
       "                          price           \n",
       "                          count       mean\n",
       "origin     destination                    \n",
       "BARCELONA  MADRID       1232526  84.959360\n",
       "MADRID     BARCELONA    1278936  85.287372\n",
       "           PONFERRADA    180523  46.466160\n",
       "           SEVILLA      1218280  59.599364\n",
       "           VALENCIA     1161004  42.749956\n",
       "PONFERRADA MADRID        320202  47.026325\n",
       "SEVILLA    MADRID       1213981  58.259166\n",
       "VALENCIA   MADRID       1065902  40.462567"
      ]
     },
     "execution_count": 22,
     "metadata": {},
     "output_type": "execute_result"
    }
   ],
   "source": [
    "data.groupby(['origin','destination']).agg({'price':['count', np.mean]})"
   ]
  },
  {
   "cell_type": "code",
   "execution_count": 39,
   "metadata": {
    "hideCode": true,
    "hidePrompt": false,
    "jupyter": {
     "source_hidden": true
    }
   },
   "outputs": [
    {
     "data": {
      "image/png": "[encoded data removed]",
      "text/plain": [
       "<Figure size 1440x720 with 1 Axes>"
      ]
     },
     "metadata": {
      "needs_background": "light"
     },
     "output_type": "display_data"
    }
   ],
   "source": [
    "route1 = route.value_counts()\n",
    "plt.figure(figsize=(20,10))\n",
    "sns.barplot(route1.index, route1.values, palette = 'Dark2')\n",
    "plt.title('Favorite Destination', fontsize=16)\n",
    "plt.ylabel('Number os trips', fontsize=14)\n",
    "plt.show()"
   ]
  },
  {
   "cell_type": "code",
   "execution_count": 23,
   "metadata": {},
   "outputs": [
    {
     "data": {
      "text/html": [
       "<div>\n",
       "<style scoped>\n",
       "    .dataframe tbody tr th:only-of-type {\n",
       "        vertical-align: middle;\n",
       "    }\n",
       "\n",
       "    .dataframe tbody tr th {\n",
       "        vertical-align: top;\n",
       "    }\n",
       "\n",
       "    .dataframe thead th {\n",
       "        text-align: right;\n",
       "    }\n",
       "</style>\n",
       "<table border=\"1\" class=\"dataframe\">\n",
       "  <thead>\n",
       "    <tr style=\"text-align: right;\">\n",
       "      <th></th>\n",
       "      <th>origin_dest</th>\n",
       "      <th>train_type</th>\n",
       "      <th>price</th>\n",
       "    </tr>\n",
       "  </thead>\n",
       "  <tbody>\n",
       "    <tr>\n",
       "      <td>0</td>\n",
       "      <td>MADRID-BARCELONA</td>\n",
       "      <td>AVE</td>\n",
       "      <td>68.95</td>\n",
       "    </tr>\n",
       "    <tr>\n",
       "      <td>1</td>\n",
       "      <td>MADRID-BARCELONA</td>\n",
       "      <td>AVE</td>\n",
       "      <td>75.40</td>\n",
       "    </tr>\n",
       "    <tr>\n",
       "      <td>2</td>\n",
       "      <td>MADRID-BARCELONA</td>\n",
       "      <td>AVE</td>\n",
       "      <td>106.75</td>\n",
       "    </tr>\n",
       "  </tbody>\n",
       "</table>\n",
       "</div>"
      ],
      "text/plain": [
       "        origin_dest train_type   price\n",
       "0  MADRID-BARCELONA        AVE   68.95\n",
       "1  MADRID-BARCELONA        AVE   75.40\n",
       "2  MADRID-BARCELONA        AVE  106.75"
      ]
     },
     "execution_count": 23,
     "metadata": {},
     "output_type": "execute_result"
    }
   ],
   "source": [
    "df = data[['origin_dest', 'train_type', 'price']]\n",
    "df.head(3)"
   ]
  },
  {
   "cell_type": "markdown",
   "metadata": {
    "jupyter": {
     "source_hidden": true
    }
   },
   "source": [
    "* The most crowded route is between madrid and barcelona.\n",
    "* We can see that Madrid is a key station where people travel to and from MADRID to all other places. **So Madrid is a terminal to connect all other four cities.**\n",
    "* Ticket price of trips between Barcelona and Madrid are highest among others. "
   ]
  },
  {
   "cell_type": "markdown",
   "metadata": {},
   "source": [
    "#### Correlation Matrix "
   ]
  },
  {
   "cell_type": "code",
   "execution_count": 24,
   "metadata": {},
   "outputs": [
    {
     "data": {
      "text/html": [
       "<style  type=\"text/css\" >\n",
       "    #T_77c0ae40_f348_11e9_978a_7470fdc90652row0_col0 {\n",
       "            background-color:  #fde725;\n",
       "            color:  #000000;\n",
       "        }    #T_77c0ae40_f348_11e9_978a_7470fdc90652row0_col1 {\n",
       "            background-color:  #440256;\n",
       "            color:  #f1f1f1;\n",
       "        }    #T_77c0ae40_f348_11e9_978a_7470fdc90652row0_col2 {\n",
       "            background-color:  #440154;\n",
       "            color:  #f1f1f1;\n",
       "        }    #T_77c0ae40_f348_11e9_978a_7470fdc90652row0_col3 {\n",
       "            background-color:  #404588;\n",
       "            color:  #f1f1f1;\n",
       "        }    #T_77c0ae40_f348_11e9_978a_7470fdc90652row0_col4 {\n",
       "            background-color:  #472f7d;\n",
       "            color:  #f1f1f1;\n",
       "        }    #T_77c0ae40_f348_11e9_978a_7470fdc90652row0_col5 {\n",
       "            background-color:  #472d7b;\n",
       "            color:  #f1f1f1;\n",
       "        }    #T_77c0ae40_f348_11e9_978a_7470fdc90652row0_col6 {\n",
       "            background-color:  #440154;\n",
       "            color:  #f1f1f1;\n",
       "        }    #T_77c0ae40_f348_11e9_978a_7470fdc90652row0_col7 {\n",
       "            background-color:  #3b528b;\n",
       "            color:  #f1f1f1;\n",
       "        }    #T_77c0ae40_f348_11e9_978a_7470fdc90652row0_col8 {\n",
       "            background-color:  #481f70;\n",
       "            color:  #f1f1f1;\n",
       "        }    #T_77c0ae40_f348_11e9_978a_7470fdc90652row0_col9 {\n",
       "            background-color:  #440154;\n",
       "            color:  #f1f1f1;\n",
       "        }    #T_77c0ae40_f348_11e9_978a_7470fdc90652row0_col10 {\n",
       "            background-color:  #482374;\n",
       "            color:  #f1f1f1;\n",
       "        }    #T_77c0ae40_f348_11e9_978a_7470fdc90652row0_col11 {\n",
       "            background-color:  #3b528b;\n",
       "            color:  #f1f1f1;\n",
       "        }    #T_77c0ae40_f348_11e9_978a_7470fdc90652row0_col12 {\n",
       "            background-color:  #481f70;\n",
       "            color:  #f1f1f1;\n",
       "        }    #T_77c0ae40_f348_11e9_978a_7470fdc90652row1_col0 {\n",
       "            background-color:  #453581;\n",
       "            color:  #f1f1f1;\n",
       "        }    #T_77c0ae40_f348_11e9_978a_7470fdc90652row1_col1 {\n",
       "            background-color:  #fde725;\n",
       "            color:  #000000;\n",
       "        }    #T_77c0ae40_f348_11e9_978a_7470fdc90652row1_col2 {\n",
       "            background-color:  #470d60;\n",
       "            color:  #f1f1f1;\n",
       "        }    #T_77c0ae40_f348_11e9_978a_7470fdc90652row1_col3 {\n",
       "            background-color:  #404588;\n",
       "            color:  #f1f1f1;\n",
       "        }    #T_77c0ae40_f348_11e9_978a_7470fdc90652row1_col4 {\n",
       "            background-color:  #3e4989;\n",
       "            color:  #f1f1f1;\n",
       "        }    #T_77c0ae40_f348_11e9_978a_7470fdc90652row1_col5 {\n",
       "            background-color:  #481d6f;\n",
       "            color:  #f1f1f1;\n",
       "        }    #T_77c0ae40_f348_11e9_978a_7470fdc90652row1_col6 {\n",
       "            background-color:  #453581;\n",
       "            color:  #f1f1f1;\n",
       "        }    #T_77c0ae40_f348_11e9_978a_7470fdc90652row1_col7 {\n",
       "            background-color:  #3e4a89;\n",
       "            color:  #f1f1f1;\n",
       "        }    #T_77c0ae40_f348_11e9_978a_7470fdc90652row1_col8 {\n",
       "            background-color:  #3c4f8a;\n",
       "            color:  #f1f1f1;\n",
       "        }    #T_77c0ae40_f348_11e9_978a_7470fdc90652row1_col9 {\n",
       "            background-color:  #450457;\n",
       "            color:  #f1f1f1;\n",
       "        }    #T_77c0ae40_f348_11e9_978a_7470fdc90652row1_col10 {\n",
       "            background-color:  #482475;\n",
       "            color:  #f1f1f1;\n",
       "        }    #T_77c0ae40_f348_11e9_978a_7470fdc90652row1_col11 {\n",
       "            background-color:  #3e4a89;\n",
       "            color:  #f1f1f1;\n",
       "        }    #T_77c0ae40_f348_11e9_978a_7470fdc90652row1_col12 {\n",
       "            background-color:  #3c4f8a;\n",
       "            color:  #f1f1f1;\n",
       "        }    #T_77c0ae40_f348_11e9_978a_7470fdc90652row2_col0 {\n",
       "            background-color:  #46307e;\n",
       "            color:  #f1f1f1;\n",
       "        }    #T_77c0ae40_f348_11e9_978a_7470fdc90652row2_col1 {\n",
       "            background-color:  #46075a;\n",
       "            color:  #f1f1f1;\n",
       "        }    #T_77c0ae40_f348_11e9_978a_7470fdc90652row2_col2 {\n",
       "            background-color:  #fde725;\n",
       "            color:  #000000;\n",
       "        }    #T_77c0ae40_f348_11e9_978a_7470fdc90652row2_col3 {\n",
       "            background-color:  #3f4788;\n",
       "            color:  #f1f1f1;\n",
       "        }    #T_77c0ae40_f348_11e9_978a_7470fdc90652row2_col4 {\n",
       "            background-color:  #365c8d;\n",
       "            color:  #f1f1f1;\n",
       "        }    #T_77c0ae40_f348_11e9_978a_7470fdc90652row2_col5 {\n",
       "            background-color:  #481a6c;\n",
       "            color:  #f1f1f1;\n",
       "        }    #T_77c0ae40_f348_11e9_978a_7470fdc90652row2_col6 {\n",
       "            background-color:  #3d4d8a;\n",
       "            color:  #f1f1f1;\n",
       "        }    #T_77c0ae40_f348_11e9_978a_7470fdc90652row2_col7 {\n",
       "            background-color:  #3f4889;\n",
       "            color:  #f1f1f1;\n",
       "        }    #T_77c0ae40_f348_11e9_978a_7470fdc90652row2_col8 {\n",
       "            background-color:  #365d8d;\n",
       "            color:  #f1f1f1;\n",
       "        }    #T_77c0ae40_f348_11e9_978a_7470fdc90652row2_col9 {\n",
       "            background-color:  #470d60;\n",
       "            color:  #f1f1f1;\n",
       "        }    #T_77c0ae40_f348_11e9_978a_7470fdc90652row2_col10 {\n",
       "            background-color:  #482173;\n",
       "            color:  #f1f1f1;\n",
       "        }    #T_77c0ae40_f348_11e9_978a_7470fdc90652row2_col11 {\n",
       "            background-color:  #3f4889;\n",
       "            color:  #f1f1f1;\n",
       "        }    #T_77c0ae40_f348_11e9_978a_7470fdc90652row2_col12 {\n",
       "            background-color:  #365d8d;\n",
       "            color:  #f1f1f1;\n",
       "        }    #T_77c0ae40_f348_11e9_978a_7470fdc90652row3_col0 {\n",
       "            background-color:  #463480;\n",
       "            color:  #f1f1f1;\n",
       "        }    #T_77c0ae40_f348_11e9_978a_7470fdc90652row3_col1 {\n",
       "            background-color:  #440154;\n",
       "            color:  #f1f1f1;\n",
       "        }    #T_77c0ae40_f348_11e9_978a_7470fdc90652row3_col2 {\n",
       "            background-color:  #460a5d;\n",
       "            color:  #f1f1f1;\n",
       "        }    #T_77c0ae40_f348_11e9_978a_7470fdc90652row3_col3 {\n",
       "            background-color:  #fde725;\n",
       "            color:  #000000;\n",
       "        }    #T_77c0ae40_f348_11e9_978a_7470fdc90652row3_col4 {\n",
       "            background-color:  #440154;\n",
       "            color:  #f1f1f1;\n",
       "        }    #T_77c0ae40_f348_11e9_978a_7470fdc90652row3_col5 {\n",
       "            background-color:  #481d6f;\n",
       "            color:  #f1f1f1;\n",
       "        }    #T_77c0ae40_f348_11e9_978a_7470fdc90652row3_col6 {\n",
       "            background-color:  #453781;\n",
       "            color:  #f1f1f1;\n",
       "        }    #T_77c0ae40_f348_11e9_978a_7470fdc90652row3_col7 {\n",
       "            background-color:  #3e4c8a;\n",
       "            color:  #f1f1f1;\n",
       "        }    #T_77c0ae40_f348_11e9_978a_7470fdc90652row3_col8 {\n",
       "            background-color:  #423f85;\n",
       "            color:  #f1f1f1;\n",
       "        }    #T_77c0ae40_f348_11e9_978a_7470fdc90652row3_col9 {\n",
       "            background-color:  #450457;\n",
       "            color:  #f1f1f1;\n",
       "        }    #T_77c0ae40_f348_11e9_978a_7470fdc90652row3_col10 {\n",
       "            background-color:  #482475;\n",
       "            color:  #f1f1f1;\n",
       "        }    #T_77c0ae40_f348_11e9_978a_7470fdc90652row3_col11 {\n",
       "            background-color:  #3e4c8a;\n",
       "            color:  #f1f1f1;\n",
       "        }    #T_77c0ae40_f348_11e9_978a_7470fdc90652row3_col12 {\n",
       "            background-color:  #423f85;\n",
       "            color:  #f1f1f1;\n",
       "        }    #T_77c0ae40_f348_11e9_978a_7470fdc90652row4_col0 {\n",
       "            background-color:  #481b6d;\n",
       "            color:  #f1f1f1;\n",
       "        }    #T_77c0ae40_f348_11e9_978a_7470fdc90652row4_col1 {\n",
       "            background-color:  #46075a;\n",
       "            color:  #f1f1f1;\n",
       "        }    #T_77c0ae40_f348_11e9_978a_7470fdc90652row4_col2 {\n",
       "            background-color:  #482979;\n",
       "            color:  #f1f1f1;\n",
       "        }    #T_77c0ae40_f348_11e9_978a_7470fdc90652row4_col3 {\n",
       "            background-color:  #440154;\n",
       "            color:  #f1f1f1;\n",
       "        }    #T_77c0ae40_f348_11e9_978a_7470fdc90652row4_col4 {\n",
       "            background-color:  #fde725;\n",
       "            color:  #000000;\n",
       "        }    #T_77c0ae40_f348_11e9_978a_7470fdc90652row4_col5 {\n",
       "            background-color:  #481d6f;\n",
       "            color:  #f1f1f1;\n",
       "        }    #T_77c0ae40_f348_11e9_978a_7470fdc90652row4_col6 {\n",
       "            background-color:  #443983;\n",
       "            color:  #f1f1f1;\n",
       "        }    #T_77c0ae40_f348_11e9_978a_7470fdc90652row4_col7 {\n",
       "            background-color:  #453882;\n",
       "            color:  #f1f1f1;\n",
       "        }    #T_77c0ae40_f348_11e9_978a_7470fdc90652row4_col8 {\n",
       "            background-color:  #c2df23;\n",
       "            color:  #000000;\n",
       "        }    #T_77c0ae40_f348_11e9_978a_7470fdc90652row4_col9 {\n",
       "            background-color:  #440154;\n",
       "            color:  #f1f1f1;\n",
       "        }    #T_77c0ae40_f348_11e9_978a_7470fdc90652row4_col10 {\n",
       "            background-color:  #481c6e;\n",
       "            color:  #f1f1f1;\n",
       "        }    #T_77c0ae40_f348_11e9_978a_7470fdc90652row4_col11 {\n",
       "            background-color:  #453882;\n",
       "            color:  #f1f1f1;\n",
       "        }    #T_77c0ae40_f348_11e9_978a_7470fdc90652row4_col12 {\n",
       "            background-color:  #c2df23;\n",
       "            color:  #000000;\n",
       "        }    #T_77c0ae40_f348_11e9_978a_7470fdc90652row5_col0 {\n",
       "            background-color:  #414287;\n",
       "            color:  #f1f1f1;\n",
       "        }    #T_77c0ae40_f348_11e9_978a_7470fdc90652row5_col1 {\n",
       "            background-color:  #440256;\n",
       "            color:  #f1f1f1;\n",
       "        }    #T_77c0ae40_f348_11e9_978a_7470fdc90652row5_col2 {\n",
       "            background-color:  #450457;\n",
       "            color:  #f1f1f1;\n",
       "        }    #T_77c0ae40_f348_11e9_978a_7470fdc90652row5_col3 {\n",
       "            background-color:  #3f4788;\n",
       "            color:  #f1f1f1;\n",
       "        }    #T_77c0ae40_f348_11e9_978a_7470fdc90652row5_col4 {\n",
       "            background-color:  #404688;\n",
       "            color:  #f1f1f1;\n",
       "        }    #T_77c0ae40_f348_11e9_978a_7470fdc90652row5_col5 {\n",
       "            background-color:  #fde725;\n",
       "            color:  #000000;\n",
       "        }    #T_77c0ae40_f348_11e9_978a_7470fdc90652row5_col6 {\n",
       "            background-color:  #481f70;\n",
       "            color:  #f1f1f1;\n",
       "        }    #T_77c0ae40_f348_11e9_978a_7470fdc90652row5_col7 {\n",
       "            background-color:  #3e4c8a;\n",
       "            color:  #f1f1f1;\n",
       "        }    #T_77c0ae40_f348_11e9_978a_7470fdc90652row5_col8 {\n",
       "            background-color:  #3e4a89;\n",
       "            color:  #f1f1f1;\n",
       "        }    #T_77c0ae40_f348_11e9_978a_7470fdc90652row5_col9 {\n",
       "            background-color:  #50c46a;\n",
       "            color:  #000000;\n",
       "        }    #T_77c0ae40_f348_11e9_978a_7470fdc90652row5_col10 {\n",
       "            background-color:  #472c7a;\n",
       "            color:  #f1f1f1;\n",
       "        }    #T_77c0ae40_f348_11e9_978a_7470fdc90652row5_col11 {\n",
       "            background-color:  #3e4c8a;\n",
       "            color:  #f1f1f1;\n",
       "        }    #T_77c0ae40_f348_11e9_978a_7470fdc90652row5_col12 {\n",
       "            background-color:  #3e4a89;\n",
       "            color:  #f1f1f1;\n",
       "        }    #T_77c0ae40_f348_11e9_978a_7470fdc90652row6_col0 {\n",
       "            background-color:  #440154;\n",
       "            color:  #f1f1f1;\n",
       "        }    #T_77c0ae40_f348_11e9_978a_7470fdc90652row6_col1 {\n",
       "            background-color:  #440256;\n",
       "            color:  #f1f1f1;\n",
       "        }    #T_77c0ae40_f348_11e9_978a_7470fdc90652row6_col2 {\n",
       "            background-color:  #482677;\n",
       "            color:  #f1f1f1;\n",
       "        }    #T_77c0ae40_f348_11e9_978a_7470fdc90652row6_col3 {\n",
       "            background-color:  #3f4788;\n",
       "            color:  #f1f1f1;\n",
       "        }    #T_77c0ae40_f348_11e9_978a_7470fdc90652row6_col4 {\n",
       "            background-color:  #3e4989;\n",
       "            color:  #f1f1f1;\n",
       "        }    #T_77c0ae40_f348_11e9_978a_7470fdc90652row6_col5 {\n",
       "            background-color:  #440154;\n",
       "            color:  #f1f1f1;\n",
       "        }    #T_77c0ae40_f348_11e9_978a_7470fdc90652row6_col6 {\n",
       "            background-color:  #fde725;\n",
       "            color:  #000000;\n",
       "        }    #T_77c0ae40_f348_11e9_978a_7470fdc90652row6_col7 {\n",
       "            background-color:  #3e4a89;\n",
       "            color:  #f1f1f1;\n",
       "        }    #T_77c0ae40_f348_11e9_978a_7470fdc90652row6_col8 {\n",
       "            background-color:  #3d4e8a;\n",
       "            color:  #f1f1f1;\n",
       "        }    #T_77c0ae40_f348_11e9_978a_7470fdc90652row6_col9 {\n",
       "            background-color:  #471365;\n",
       "            color:  #f1f1f1;\n",
       "        }    #T_77c0ae40_f348_11e9_978a_7470fdc90652row6_col10 {\n",
       "            background-color:  #440154;\n",
       "            color:  #f1f1f1;\n",
       "        }    #T_77c0ae40_f348_11e9_978a_7470fdc90652row6_col11 {\n",
       "            background-color:  #3e4a89;\n",
       "            color:  #f1f1f1;\n",
       "        }    #T_77c0ae40_f348_11e9_978a_7470fdc90652row6_col12 {\n",
       "            background-color:  #3d4e8a;\n",
       "            color:  #f1f1f1;\n",
       "        }    #T_77c0ae40_f348_11e9_978a_7470fdc90652row7_col0 {\n",
       "            background-color:  #423f85;\n",
       "            color:  #f1f1f1;\n",
       "        }    #T_77c0ae40_f348_11e9_978a_7470fdc90652row7_col1 {\n",
       "            background-color:  #440256;\n",
       "            color:  #f1f1f1;\n",
       "        }    #T_77c0ae40_f348_11e9_978a_7470fdc90652row7_col2 {\n",
       "            background-color:  #440256;\n",
       "            color:  #f1f1f1;\n",
       "        }    #T_77c0ae40_f348_11e9_978a_7470fdc90652row7_col3 {\n",
       "            background-color:  #3f4788;\n",
       "            color:  #f1f1f1;\n",
       "        }    #T_77c0ae40_f348_11e9_978a_7470fdc90652row7_col4 {\n",
       "            background-color:  #46327e;\n",
       "            color:  #f1f1f1;\n",
       "        }    #T_77c0ae40_f348_11e9_978a_7470fdc90652row7_col5 {\n",
       "            background-color:  #481f70;\n",
       "            color:  #f1f1f1;\n",
       "        }    #T_77c0ae40_f348_11e9_978a_7470fdc90652row7_col6 {\n",
       "            background-color:  #453581;\n",
       "            color:  #f1f1f1;\n",
       "        }    #T_77c0ae40_f348_11e9_978a_7470fdc90652row7_col7 {\n",
       "            background-color:  #fde725;\n",
       "            color:  #000000;\n",
       "        }    #T_77c0ae40_f348_11e9_978a_7470fdc90652row7_col8 {\n",
       "            background-color:  #440154;\n",
       "            color:  #f1f1f1;\n",
       "        }    #T_77c0ae40_f348_11e9_978a_7470fdc90652row7_col9 {\n",
       "            background-color:  #450457;\n",
       "            color:  #f1f1f1;\n",
       "        }    #T_77c0ae40_f348_11e9_978a_7470fdc90652row7_col10 {\n",
       "            background-color:  #482576;\n",
       "            color:  #f1f1f1;\n",
       "        }    #T_77c0ae40_f348_11e9_978a_7470fdc90652row7_col11 {\n",
       "            background-color:  #fde725;\n",
       "            color:  #000000;\n",
       "        }    #T_77c0ae40_f348_11e9_978a_7470fdc90652row7_col12 {\n",
       "            background-color:  #440154;\n",
       "            color:  #f1f1f1;\n",
       "        }    #T_77c0ae40_f348_11e9_978a_7470fdc90652row8_col0 {\n",
       "            background-color:  #440154;\n",
       "            color:  #f1f1f1;\n",
       "        }    #T_77c0ae40_f348_11e9_978a_7470fdc90652row8_col1 {\n",
       "            background-color:  #460a5d;\n",
       "            color:  #f1f1f1;\n",
       "        }    #T_77c0ae40_f348_11e9_978a_7470fdc90652row8_col2 {\n",
       "            background-color:  #482576;\n",
       "            color:  #f1f1f1;\n",
       "        }    #T_77c0ae40_f348_11e9_978a_7470fdc90652row8_col3 {\n",
       "            background-color:  #443983;\n",
       "            color:  #f1f1f1;\n",
       "        }    #T_77c0ae40_f348_11e9_978a_7470fdc90652row8_col4 {\n",
       "            background-color:  #c2df23;\n",
       "            color:  #000000;\n",
       "        }    #T_77c0ae40_f348_11e9_978a_7470fdc90652row8_col5 {\n",
       "            background-color:  #481c6e;\n",
       "            color:  #f1f1f1;\n",
       "        }    #T_77c0ae40_f348_11e9_978a_7470fdc90652row8_col6 {\n",
       "            background-color:  #443983;\n",
       "            color:  #f1f1f1;\n",
       "        }    #T_77c0ae40_f348_11e9_978a_7470fdc90652row8_col7 {\n",
       "            background-color:  #440154;\n",
       "            color:  #f1f1f1;\n",
       "        }    #T_77c0ae40_f348_11e9_978a_7470fdc90652row8_col8 {\n",
       "            background-color:  #fde725;\n",
       "            color:  #000000;\n",
       "        }    #T_77c0ae40_f348_11e9_978a_7470fdc90652row8_col9 {\n",
       "            background-color:  #440154;\n",
       "            color:  #f1f1f1;\n",
       "        }    #T_77c0ae40_f348_11e9_978a_7470fdc90652row8_col10 {\n",
       "            background-color:  #481b6d;\n",
       "            color:  #f1f1f1;\n",
       "        }    #T_77c0ae40_f348_11e9_978a_7470fdc90652row8_col11 {\n",
       "            background-color:  #440154;\n",
       "            color:  #f1f1f1;\n",
       "        }    #T_77c0ae40_f348_11e9_978a_7470fdc90652row8_col12 {\n",
       "            background-color:  #fde725;\n",
       "            color:  #000000;\n",
       "        }    #T_77c0ae40_f348_11e9_978a_7470fdc90652row9_col0 {\n",
       "            background-color:  #46337f;\n",
       "            color:  #f1f1f1;\n",
       "        }    #T_77c0ae40_f348_11e9_978a_7470fdc90652row9_col1 {\n",
       "            background-color:  #440256;\n",
       "            color:  #f1f1f1;\n",
       "        }    #T_77c0ae40_f348_11e9_978a_7470fdc90652row9_col2 {\n",
       "            background-color:  #471164;\n",
       "            color:  #f1f1f1;\n",
       "        }    #T_77c0ae40_f348_11e9_978a_7470fdc90652row9_col3 {\n",
       "            background-color:  #404688;\n",
       "            color:  #f1f1f1;\n",
       "        }    #T_77c0ae40_f348_11e9_978a_7470fdc90652row9_col4 {\n",
       "            background-color:  #404588;\n",
       "            color:  #f1f1f1;\n",
       "        }    #T_77c0ae40_f348_11e9_978a_7470fdc90652row9_col5 {\n",
       "            background-color:  #5ac864;\n",
       "            color:  #000000;\n",
       "        }    #T_77c0ae40_f348_11e9_978a_7470fdc90652row9_col6 {\n",
       "            background-color:  #424086;\n",
       "            color:  #f1f1f1;\n",
       "        }    #T_77c0ae40_f348_11e9_978a_7470fdc90652row9_col7 {\n",
       "            background-color:  #3e4c8a;\n",
       "            color:  #f1f1f1;\n",
       "        }    #T_77c0ae40_f348_11e9_978a_7470fdc90652row9_col8 {\n",
       "            background-color:  #3e4989;\n",
       "            color:  #f1f1f1;\n",
       "        }    #T_77c0ae40_f348_11e9_978a_7470fdc90652row9_col9 {\n",
       "            background-color:  #fde725;\n",
       "            color:  #000000;\n",
       "        }    #T_77c0ae40_f348_11e9_978a_7470fdc90652row9_col10 {\n",
       "            background-color:  #453581;\n",
       "            color:  #f1f1f1;\n",
       "        }    #T_77c0ae40_f348_11e9_978a_7470fdc90652row9_col11 {\n",
       "            background-color:  #3e4c8a;\n",
       "            color:  #f1f1f1;\n",
       "        }    #T_77c0ae40_f348_11e9_978a_7470fdc90652row9_col12 {\n",
       "            background-color:  #3e4989;\n",
       "            color:  #f1f1f1;\n",
       "        }    #T_77c0ae40_f348_11e9_978a_7470fdc90652row10_col0 {\n",
       "            background-color:  #453581;\n",
       "            color:  #f1f1f1;\n",
       "        }    #T_77c0ae40_f348_11e9_978a_7470fdc90652row10_col1 {\n",
       "            background-color:  #440256;\n",
       "            color:  #f1f1f1;\n",
       "        }    #T_77c0ae40_f348_11e9_978a_7470fdc90652row10_col2 {\n",
       "            background-color:  #450457;\n",
       "            color:  #f1f1f1;\n",
       "        }    #T_77c0ae40_f348_11e9_978a_7470fdc90652row10_col3 {\n",
       "            background-color:  #3f4788;\n",
       "            color:  #f1f1f1;\n",
       "        }    #T_77c0ae40_f348_11e9_978a_7470fdc90652row10_col4 {\n",
       "            background-color:  #424086;\n",
       "            color:  #f1f1f1;\n",
       "        }    #T_77c0ae40_f348_11e9_978a_7470fdc90652row10_col5 {\n",
       "            background-color:  #482576;\n",
       "            color:  #f1f1f1;\n",
       "        }    #T_77c0ae40_f348_11e9_978a_7470fdc90652row10_col6 {\n",
       "            background-color:  #48186a;\n",
       "            color:  #f1f1f1;\n",
       "        }    #T_77c0ae40_f348_11e9_978a_7470fdc90652row10_col7 {\n",
       "            background-color:  #3d4d8a;\n",
       "            color:  #f1f1f1;\n",
       "        }    #T_77c0ae40_f348_11e9_978a_7470fdc90652row10_col8 {\n",
       "            background-color:  #404588;\n",
       "            color:  #f1f1f1;\n",
       "        }    #T_77c0ae40_f348_11e9_978a_7470fdc90652row10_col9 {\n",
       "            background-color:  #481b6d;\n",
       "            color:  #f1f1f1;\n",
       "        }    #T_77c0ae40_f348_11e9_978a_7470fdc90652row10_col10 {\n",
       "            background-color:  #fde725;\n",
       "            color:  #000000;\n",
       "        }    #T_77c0ae40_f348_11e9_978a_7470fdc90652row10_col11 {\n",
       "            background-color:  #3d4d8a;\n",
       "            color:  #f1f1f1;\n",
       "        }    #T_77c0ae40_f348_11e9_978a_7470fdc90652row10_col12 {\n",
       "            background-color:  #404588;\n",
       "            color:  #f1f1f1;\n",
       "        }    #T_77c0ae40_f348_11e9_978a_7470fdc90652row11_col0 {\n",
       "            background-color:  #433e85;\n",
       "            color:  #f1f1f1;\n",
       "        }    #T_77c0ae40_f348_11e9_978a_7470fdc90652row11_col1 {\n",
       "            background-color:  #440256;\n",
       "            color:  #f1f1f1;\n",
       "        }    #T_77c0ae40_f348_11e9_978a_7470fdc90652row11_col2 {\n",
       "            background-color:  #440256;\n",
       "            color:  #f1f1f1;\n",
       "        }    #T_77c0ae40_f348_11e9_978a_7470fdc90652row11_col3 {\n",
       "            background-color:  #3f4788;\n",
       "            color:  #f1f1f1;\n",
       "        }    #T_77c0ae40_f348_11e9_978a_7470fdc90652row11_col4 {\n",
       "            background-color:  #46337f;\n",
       "            color:  #f1f1f1;\n",
       "        }    #T_77c0ae40_f348_11e9_978a_7470fdc90652row11_col5 {\n",
       "            background-color:  #481f70;\n",
       "            color:  #f1f1f1;\n",
       "        }    #T_77c0ae40_f348_11e9_978a_7470fdc90652row11_col6 {\n",
       "            background-color:  #453581;\n",
       "            color:  #f1f1f1;\n",
       "        }    #T_77c0ae40_f348_11e9_978a_7470fdc90652row11_col7 {\n",
       "            background-color:  #fde725;\n",
       "            color:  #000000;\n",
       "        }    #T_77c0ae40_f348_11e9_978a_7470fdc90652row11_col8 {\n",
       "            background-color:  #440154;\n",
       "            color:  #f1f1f1;\n",
       "        }    #T_77c0ae40_f348_11e9_978a_7470fdc90652row11_col9 {\n",
       "            background-color:  #450559;\n",
       "            color:  #f1f1f1;\n",
       "        }    #T_77c0ae40_f348_11e9_978a_7470fdc90652row11_col10 {\n",
       "            background-color:  #482576;\n",
       "            color:  #f1f1f1;\n",
       "        }    #T_77c0ae40_f348_11e9_978a_7470fdc90652row11_col11 {\n",
       "            background-color:  #fde725;\n",
       "            color:  #000000;\n",
       "        }    #T_77c0ae40_f348_11e9_978a_7470fdc90652row11_col12 {\n",
       "            background-color:  #440154;\n",
       "            color:  #f1f1f1;\n",
       "        }    #T_77c0ae40_f348_11e9_978a_7470fdc90652row12_col0 {\n",
       "            background-color:  #440154;\n",
       "            color:  #f1f1f1;\n",
       "        }    #T_77c0ae40_f348_11e9_978a_7470fdc90652row12_col1 {\n",
       "            background-color:  #460a5d;\n",
       "            color:  #f1f1f1;\n",
       "        }    #T_77c0ae40_f348_11e9_978a_7470fdc90652row12_col2 {\n",
       "            background-color:  #482576;\n",
       "            color:  #f1f1f1;\n",
       "        }    #T_77c0ae40_f348_11e9_978a_7470fdc90652row12_col3 {\n",
       "            background-color:  #443983;\n",
       "            color:  #f1f1f1;\n",
       "        }    #T_77c0ae40_f348_11e9_978a_7470fdc90652row12_col4 {\n",
       "            background-color:  #c2df23;\n",
       "            color:  #000000;\n",
       "        }    #T_77c0ae40_f348_11e9_978a_7470fdc90652row12_col5 {\n",
       "            background-color:  #481c6e;\n",
       "            color:  #f1f1f1;\n",
       "        }    #T_77c0ae40_f348_11e9_978a_7470fdc90652row12_col6 {\n",
       "            background-color:  #443983;\n",
       "            color:  #f1f1f1;\n",
       "        }    #T_77c0ae40_f348_11e9_978a_7470fdc90652row12_col7 {\n",
       "            background-color:  #440154;\n",
       "            color:  #f1f1f1;\n",
       "        }    #T_77c0ae40_f348_11e9_978a_7470fdc90652row12_col8 {\n",
       "            background-color:  #fde725;\n",
       "            color:  #000000;\n",
       "        }    #T_77c0ae40_f348_11e9_978a_7470fdc90652row12_col9 {\n",
       "            background-color:  #440154;\n",
       "            color:  #f1f1f1;\n",
       "        }    #T_77c0ae40_f348_11e9_978a_7470fdc90652row12_col10 {\n",
       "            background-color:  #481b6d;\n",
       "            color:  #f1f1f1;\n",
       "        }    #T_77c0ae40_f348_11e9_978a_7470fdc90652row12_col11 {\n",
       "            background-color:  #440154;\n",
       "            color:  #f1f1f1;\n",
       "        }    #T_77c0ae40_f348_11e9_978a_7470fdc90652row12_col12 {\n",
       "            background-color:  #fde725;\n",
       "            color:  #000000;\n",
       "        }</style><table id=\"T_77c0ae40_f348_11e9_978a_7470fdc90652\" ><thead>    <tr>        <th class=\"blank level0\" ></th>        <th class=\"col_heading level0 col0\" >price</th>        <th class=\"col_heading level0 col1\" >insert_date_hour</th>        <th class=\"col_heading level0 col2\" >insert_date_minute</th>        <th class=\"col_heading level0 col3\" >insert_date_day</th>        <th class=\"col_heading level0 col4\" >insert_date_month</th>        <th class=\"col_heading level0 col5\" >start_date_hour</th>        <th class=\"col_heading level0 col6\" >start_date_minute</th>        <th class=\"col_heading level0 col7\" >start_date_day</th>        <th class=\"col_heading level0 col8\" >start_date_month</th>        <th class=\"col_heading level0 col9\" >end_date_hour</th>        <th class=\"col_heading level0 col10\" >end_date_minute</th>        <th class=\"col_heading level0 col11\" >end_date_day</th>        <th class=\"col_heading level0 col12\" >end_date_month</th>    </tr></thead><tbody>\n",
       "                <tr>\n",
       "                        <th id=\"T_77c0ae40_f348_11e9_978a_7470fdc90652level0_row0\" class=\"row_heading level0 row0\" >price</th>\n",
       "                        <td id=\"T_77c0ae40_f348_11e9_978a_7470fdc90652row0_col0\" class=\"data row0 col0\" >1</td>\n",
       "                        <td id=\"T_77c0ae40_f348_11e9_978a_7470fdc90652row0_col1\" class=\"data row0 col1\" >-0.00077</td>\n",
       "                        <td id=\"T_77c0ae40_f348_11e9_978a_7470fdc90652row0_col2\" class=\"data row0 col2\" >-0.021</td>\n",
       "                        <td id=\"T_77c0ae40_f348_11e9_978a_7470fdc90652row0_col3\" class=\"data row0 col3\" >-0.006</td>\n",
       "                        <td id=\"T_77c0ae40_f348_11e9_978a_7470fdc90652row0_col4\" class=\"data row0 col4\" >-0.098</td>\n",
       "                        <td id=\"T_77c0ae40_f348_11e9_978a_7470fdc90652row0_col5\" class=\"data row0 col5\" >0.049</td>\n",
       "                        <td id=\"T_77c0ae40_f348_11e9_978a_7470fdc90652row0_col6\" class=\"data row0 col6\" >-0.19</td>\n",
       "                        <td id=\"T_77c0ae40_f348_11e9_978a_7470fdc90652row0_col7\" class=\"data row0 col7\" >0.033</td>\n",
       "                        <td id=\"T_77c0ae40_f348_11e9_978a_7470fdc90652row0_col8\" class=\"data row0 col8\" >-0.18</td>\n",
       "                        <td id=\"T_77c0ae40_f348_11e9_978a_7470fdc90652row0_col9\" class=\"data row0 col9\" >-0.0093</td>\n",
       "                        <td id=\"T_77c0ae40_f348_11e9_978a_7470fdc90652row0_col10\" class=\"data row0 col10\" >-0.0039</td>\n",
       "                        <td id=\"T_77c0ae40_f348_11e9_978a_7470fdc90652row0_col11\" class=\"data row0 col11\" >0.032</td>\n",
       "                        <td id=\"T_77c0ae40_f348_11e9_978a_7470fdc90652row0_col12\" class=\"data row0 col12\" >-0.18</td>\n",
       "            </tr>\n",
       "            <tr>\n",
       "                        <th id=\"T_77c0ae40_f348_11e9_978a_7470fdc90652level0_row1\" class=\"row_heading level0 row1\" >insert_date_hour</th>\n",
       "                        <td id=\"T_77c0ae40_f348_11e9_978a_7470fdc90652row1_col0\" class=\"data row1 col0\" >-0.00077</td>\n",
       "                        <td id=\"T_77c0ae40_f348_11e9_978a_7470fdc90652row1_col1\" class=\"data row1 col1\" >1</td>\n",
       "                        <td id=\"T_77c0ae40_f348_11e9_978a_7470fdc90652row1_col2\" class=\"data row1 col2\" >0.011</td>\n",
       "                        <td id=\"T_77c0ae40_f348_11e9_978a_7470fdc90652row1_col3\" class=\"data row1 col3\" >-0.0073</td>\n",
       "                        <td id=\"T_77c0ae40_f348_11e9_978a_7470fdc90652row1_col4\" class=\"data row1 col4\" >0.012</td>\n",
       "                        <td id=\"T_77c0ae40_f348_11e9_978a_7470fdc90652row1_col5\" class=\"data row1 col5\" >-0.0011</td>\n",
       "                        <td id=\"T_77c0ae40_f348_11e9_978a_7470fdc90652row1_col6\" class=\"data row1 col6\" >-0.0029</td>\n",
       "                        <td id=\"T_77c0ae40_f348_11e9_978a_7470fdc90652row1_col7\" class=\"data row1 col7\" >-0.0029</td>\n",
       "                        <td id=\"T_77c0ae40_f348_11e9_978a_7470fdc90652row1_col8\" class=\"data row1 col8\" >0.018</td>\n",
       "                        <td id=\"T_77c0ae40_f348_11e9_978a_7470fdc90652row1_col9\" class=\"data row1 col9\" >-0.0011</td>\n",
       "                        <td id=\"T_77c0ae40_f348_11e9_978a_7470fdc90652row1_col10\" class=\"data row1 col10\" >-3.1e-05</td>\n",
       "                        <td id=\"T_77c0ae40_f348_11e9_978a_7470fdc90652row1_col11\" class=\"data row1 col11\" >-0.0029</td>\n",
       "                        <td id=\"T_77c0ae40_f348_11e9_978a_7470fdc90652row1_col12\" class=\"data row1 col12\" >0.018</td>\n",
       "            </tr>\n",
       "            <tr>\n",
       "                        <th id=\"T_77c0ae40_f348_11e9_978a_7470fdc90652level0_row2\" class=\"row_heading level0 row2\" >insert_date_minute</th>\n",
       "                        <td id=\"T_77c0ae40_f348_11e9_978a_7470fdc90652row2_col0\" class=\"data row2 col0\" >-0.021</td>\n",
       "                        <td id=\"T_77c0ae40_f348_11e9_978a_7470fdc90652row2_col1\" class=\"data row2 col1\" >0.011</td>\n",
       "                        <td id=\"T_77c0ae40_f348_11e9_978a_7470fdc90652row2_col2\" class=\"data row2 col2\" >1</td>\n",
       "                        <td id=\"T_77c0ae40_f348_11e9_978a_7470fdc90652row2_col3\" class=\"data row2 col3\" >0.0035</td>\n",
       "                        <td id=\"T_77c0ae40_f348_11e9_978a_7470fdc90652row2_col4\" class=\"data row2 col4\" >0.096</td>\n",
       "                        <td id=\"T_77c0ae40_f348_11e9_978a_7470fdc90652row2_col5\" class=\"data row2 col5\" >-0.012</td>\n",
       "                        <td id=\"T_77c0ae40_f348_11e9_978a_7470fdc90652row2_col6\" class=\"data row2 col6\" >0.089</td>\n",
       "                        <td id=\"T_77c0ae40_f348_11e9_978a_7470fdc90652row2_col7\" class=\"data row2 col7\" >-0.014</td>\n",
       "                        <td id=\"T_77c0ae40_f348_11e9_978a_7470fdc90652row2_col8\" class=\"data row2 col8\" >0.085</td>\n",
       "                        <td id=\"T_77c0ae40_f348_11e9_978a_7470fdc90652row2_col9\" class=\"data row2 col9\" >0.026</td>\n",
       "                        <td id=\"T_77c0ae40_f348_11e9_978a_7470fdc90652row2_col10\" class=\"data row2 col10\" >-0.01</td>\n",
       "                        <td id=\"T_77c0ae40_f348_11e9_978a_7470fdc90652row2_col11\" class=\"data row2 col11\" >-0.014</td>\n",
       "                        <td id=\"T_77c0ae40_f348_11e9_978a_7470fdc90652row2_col12\" class=\"data row2 col12\" >0.085</td>\n",
       "            </tr>\n",
       "            <tr>\n",
       "                        <th id=\"T_77c0ae40_f348_11e9_978a_7470fdc90652level0_row3\" class=\"row_heading level0 row3\" >insert_date_day</th>\n",
       "                        <td id=\"T_77c0ae40_f348_11e9_978a_7470fdc90652row3_col0\" class=\"data row3 col0\" >-0.006</td>\n",
       "                        <td id=\"T_77c0ae40_f348_11e9_978a_7470fdc90652row3_col1\" class=\"data row3 col1\" >-0.0073</td>\n",
       "                        <td id=\"T_77c0ae40_f348_11e9_978a_7470fdc90652row3_col2\" class=\"data row3 col2\" >0.0035</td>\n",
       "                        <td id=\"T_77c0ae40_f348_11e9_978a_7470fdc90652row3_col3\" class=\"data row3 col3\" >1</td>\n",
       "                        <td id=\"T_77c0ae40_f348_11e9_978a_7470fdc90652row3_col4\" class=\"data row3 col4\" >-0.27</td>\n",
       "                        <td id=\"T_77c0ae40_f348_11e9_978a_7470fdc90652row3_col5\" class=\"data row3 col5\" >0.00017</td>\n",
       "                        <td id=\"T_77c0ae40_f348_11e9_978a_7470fdc90652row3_col6\" class=\"data row3 col6\" >0.0019</td>\n",
       "                        <td id=\"T_77c0ae40_f348_11e9_978a_7470fdc90652row3_col7\" class=\"data row3 col7\" >0.001</td>\n",
       "                        <td id=\"T_77c0ae40_f348_11e9_978a_7470fdc90652row3_col8\" class=\"data row3 col8\" >-0.054</td>\n",
       "                        <td id=\"T_77c0ae40_f348_11e9_978a_7470fdc90652row3_col9\" class=\"data row3 col9\" >-0.0014</td>\n",
       "                        <td id=\"T_77c0ae40_f348_11e9_978a_7470fdc90652row3_col10\" class=\"data row3 col10\" >0.0021</td>\n",
       "                        <td id=\"T_77c0ae40_f348_11e9_978a_7470fdc90652row3_col11\" class=\"data row3 col11\" >0.00077</td>\n",
       "                        <td id=\"T_77c0ae40_f348_11e9_978a_7470fdc90652row3_col12\" class=\"data row3 col12\" >-0.054</td>\n",
       "            </tr>\n",
       "            <tr>\n",
       "                        <th id=\"T_77c0ae40_f348_11e9_978a_7470fdc90652level0_row4\" class=\"row_heading level0 row4\" >insert_date_month</th>\n",
       "                        <td id=\"T_77c0ae40_f348_11e9_978a_7470fdc90652row4_col0\" class=\"data row4 col0\" >-0.098</td>\n",
       "                        <td id=\"T_77c0ae40_f348_11e9_978a_7470fdc90652row4_col1\" class=\"data row4 col1\" >0.012</td>\n",
       "                        <td id=\"T_77c0ae40_f348_11e9_978a_7470fdc90652row4_col2\" class=\"data row4 col2\" >0.096</td>\n",
       "                        <td id=\"T_77c0ae40_f348_11e9_978a_7470fdc90652row4_col3\" class=\"data row4 col3\" >-0.27</td>\n",
       "                        <td id=\"T_77c0ae40_f348_11e9_978a_7470fdc90652row4_col4\" class=\"data row4 col4\" >1</td>\n",
       "                        <td id=\"T_77c0ae40_f348_11e9_978a_7470fdc90652row4_col5\" class=\"data row4 col5\" >-0.00023</td>\n",
       "                        <td id=\"T_77c0ae40_f348_11e9_978a_7470fdc90652row4_col6\" class=\"data row4 col6\" >0.013</td>\n",
       "                        <td id=\"T_77c0ae40_f348_11e9_978a_7470fdc90652row4_col7\" class=\"data row4 col7\" >-0.084</td>\n",
       "                        <td id=\"T_77c0ae40_f348_11e9_978a_7470fdc90652row4_col8\" class=\"data row4 col8\" >0.88</td>\n",
       "                        <td id=\"T_77c0ae40_f348_11e9_978a_7470fdc90652row4_col9\" class=\"data row4 col9\" >-0.0074</td>\n",
       "                        <td id=\"T_77c0ae40_f348_11e9_978a_7470fdc90652row4_col10\" class=\"data row4 col10\" >-0.028</td>\n",
       "                        <td id=\"T_77c0ae40_f348_11e9_978a_7470fdc90652row4_col11\" class=\"data row4 col11\" >-0.084</td>\n",
       "                        <td id=\"T_77c0ae40_f348_11e9_978a_7470fdc90652row4_col12\" class=\"data row4 col12\" >0.88</td>\n",
       "            </tr>\n",
       "            <tr>\n",
       "                        <th id=\"T_77c0ae40_f348_11e9_978a_7470fdc90652level0_row5\" class=\"row_heading level0 row5\" >start_date_hour</th>\n",
       "                        <td id=\"T_77c0ae40_f348_11e9_978a_7470fdc90652row5_col0\" class=\"data row5 col0\" >0.049</td>\n",
       "                        <td id=\"T_77c0ae40_f348_11e9_978a_7470fdc90652row5_col1\" class=\"data row5 col1\" >-0.0011</td>\n",
       "                        <td id=\"T_77c0ae40_f348_11e9_978a_7470fdc90652row5_col2\" class=\"data row5 col2\" >-0.012</td>\n",
       "                        <td id=\"T_77c0ae40_f348_11e9_978a_7470fdc90652row5_col3\" class=\"data row5 col3\" >0.00017</td>\n",
       "                        <td id=\"T_77c0ae40_f348_11e9_978a_7470fdc90652row5_col4\" class=\"data row5 col4\" >-0.00023</td>\n",
       "                        <td id=\"T_77c0ae40_f348_11e9_978a_7470fdc90652row5_col5\" class=\"data row5 col5\" >1</td>\n",
       "                        <td id=\"T_77c0ae40_f348_11e9_978a_7470fdc90652row5_col6\" class=\"data row5 col6\" >-0.087</td>\n",
       "                        <td id=\"T_77c0ae40_f348_11e9_978a_7470fdc90652row5_col7\" class=\"data row5 col7\" >0.004</td>\n",
       "                        <td id=\"T_77c0ae40_f348_11e9_978a_7470fdc90652row5_col8\" class=\"data row5 col8\" >-0.004</td>\n",
       "                        <td id=\"T_77c0ae40_f348_11e9_978a_7470fdc90652row5_col9\" class=\"data row5 col9\" >0.72</td>\n",
       "                        <td id=\"T_77c0ae40_f348_11e9_978a_7470fdc90652row5_col10\" class=\"data row5 col10\" >0.028</td>\n",
       "                        <td id=\"T_77c0ae40_f348_11e9_978a_7470fdc90652row5_col11\" class=\"data row5 col11\" >0.0038</td>\n",
       "                        <td id=\"T_77c0ae40_f348_11e9_978a_7470fdc90652row5_col12\" class=\"data row5 col12\" >-0.0031</td>\n",
       "            </tr>\n",
       "            <tr>\n",
       "                        <th id=\"T_77c0ae40_f348_11e9_978a_7470fdc90652level0_row6\" class=\"row_heading level0 row6\" >start_date_minute</th>\n",
       "                        <td id=\"T_77c0ae40_f348_11e9_978a_7470fdc90652row6_col0\" class=\"data row6 col0\" >-0.19</td>\n",
       "                        <td id=\"T_77c0ae40_f348_11e9_978a_7470fdc90652row6_col1\" class=\"data row6 col1\" >-0.0029</td>\n",
       "                        <td id=\"T_77c0ae40_f348_11e9_978a_7470fdc90652row6_col2\" class=\"data row6 col2\" >0.089</td>\n",
       "                        <td id=\"T_77c0ae40_f348_11e9_978a_7470fdc90652row6_col3\" class=\"data row6 col3\" >0.0019</td>\n",
       "                        <td id=\"T_77c0ae40_f348_11e9_978a_7470fdc90652row6_col4\" class=\"data row6 col4\" >0.013</td>\n",
       "                        <td id=\"T_77c0ae40_f348_11e9_978a_7470fdc90652row6_col5\" class=\"data row6 col5\" >-0.087</td>\n",
       "                        <td id=\"T_77c0ae40_f348_11e9_978a_7470fdc90652row6_col6\" class=\"data row6 col6\" >1</td>\n",
       "                        <td id=\"T_77c0ae40_f348_11e9_978a_7470fdc90652row6_col7\" class=\"data row6 col7\" >-0.00028</td>\n",
       "                        <td id=\"T_77c0ae40_f348_11e9_978a_7470fdc90652row6_col8\" class=\"data row6 col8\" >0.013</td>\n",
       "                        <td id=\"T_77c0ae40_f348_11e9_978a_7470fdc90652row6_col9\" class=\"data row6 col9\" >0.038</td>\n",
       "                        <td id=\"T_77c0ae40_f348_11e9_978a_7470fdc90652row6_col10\" class=\"data row6 col10\" >-0.11</td>\n",
       "                        <td id=\"T_77c0ae40_f348_11e9_978a_7470fdc90652row6_col11\" class=\"data row6 col11\" >1.8e-05</td>\n",
       "                        <td id=\"T_77c0ae40_f348_11e9_978a_7470fdc90652row6_col12\" class=\"data row6 col12\" >0.013</td>\n",
       "            </tr>\n",
       "            <tr>\n",
       "                        <th id=\"T_77c0ae40_f348_11e9_978a_7470fdc90652level0_row7\" class=\"row_heading level0 row7\" >start_date_day</th>\n",
       "                        <td id=\"T_77c0ae40_f348_11e9_978a_7470fdc90652row7_col0\" class=\"data row7 col0\" >0.033</td>\n",
       "                        <td id=\"T_77c0ae40_f348_11e9_978a_7470fdc90652row7_col1\" class=\"data row7 col1\" >-0.0029</td>\n",
       "                        <td id=\"T_77c0ae40_f348_11e9_978a_7470fdc90652row7_col2\" class=\"data row7 col2\" >-0.014</td>\n",
       "                        <td id=\"T_77c0ae40_f348_11e9_978a_7470fdc90652row7_col3\" class=\"data row7 col3\" >0.001</td>\n",
       "                        <td id=\"T_77c0ae40_f348_11e9_978a_7470fdc90652row7_col4\" class=\"data row7 col4\" >-0.084</td>\n",
       "                        <td id=\"T_77c0ae40_f348_11e9_978a_7470fdc90652row7_col5\" class=\"data row7 col5\" >0.004</td>\n",
       "                        <td id=\"T_77c0ae40_f348_11e9_978a_7470fdc90652row7_col6\" class=\"data row7 col6\" >-0.00028</td>\n",
       "                        <td id=\"T_77c0ae40_f348_11e9_978a_7470fdc90652row7_col7\" class=\"data row7 col7\" >1</td>\n",
       "                        <td id=\"T_77c0ae40_f348_11e9_978a_7470fdc90652row7_col8\" class=\"data row7 col8\" >-0.29</td>\n",
       "                        <td id=\"T_77c0ae40_f348_11e9_978a_7470fdc90652row7_col9\" class=\"data row7 col9\" >0.0023</td>\n",
       "                        <td id=\"T_77c0ae40_f348_11e9_978a_7470fdc90652row7_col10\" class=\"data row7 col10\" >0.0064</td>\n",
       "                        <td id=\"T_77c0ae40_f348_11e9_978a_7470fdc90652row7_col11\" class=\"data row7 col11\" >1</td>\n",
       "                        <td id=\"T_77c0ae40_f348_11e9_978a_7470fdc90652row7_col12\" class=\"data row7 col12\" >-0.29</td>\n",
       "            </tr>\n",
       "            <tr>\n",
       "                        <th id=\"T_77c0ae40_f348_11e9_978a_7470fdc90652level0_row8\" class=\"row_heading level0 row8\" >start_date_month</th>\n",
       "                        <td id=\"T_77c0ae40_f348_11e9_978a_7470fdc90652row8_col0\" class=\"data row8 col0\" >-0.18</td>\n",
       "                        <td id=\"T_77c0ae40_f348_11e9_978a_7470fdc90652row8_col1\" class=\"data row8 col1\" >0.018</td>\n",
       "                        <td id=\"T_77c0ae40_f348_11e9_978a_7470fdc90652row8_col2\" class=\"data row8 col2\" >0.085</td>\n",
       "                        <td id=\"T_77c0ae40_f348_11e9_978a_7470fdc90652row8_col3\" class=\"data row8 col3\" >-0.054</td>\n",
       "                        <td id=\"T_77c0ae40_f348_11e9_978a_7470fdc90652row8_col4\" class=\"data row8 col4\" >0.88</td>\n",
       "                        <td id=\"T_77c0ae40_f348_11e9_978a_7470fdc90652row8_col5\" class=\"data row8 col5\" >-0.004</td>\n",
       "                        <td id=\"T_77c0ae40_f348_11e9_978a_7470fdc90652row8_col6\" class=\"data row8 col6\" >0.013</td>\n",
       "                        <td id=\"T_77c0ae40_f348_11e9_978a_7470fdc90652row8_col7\" class=\"data row8 col7\" >-0.29</td>\n",
       "                        <td id=\"T_77c0ae40_f348_11e9_978a_7470fdc90652row8_col8\" class=\"data row8 col8\" >1</td>\n",
       "                        <td id=\"T_77c0ae40_f348_11e9_978a_7470fdc90652row8_col9\" class=\"data row8 col9\" >-0.0078</td>\n",
       "                        <td id=\"T_77c0ae40_f348_11e9_978a_7470fdc90652row8_col10\" class=\"data row8 col10\" >-0.029</td>\n",
       "                        <td id=\"T_77c0ae40_f348_11e9_978a_7470fdc90652row8_col11\" class=\"data row8 col11\" >-0.29</td>\n",
       "                        <td id=\"T_77c0ae40_f348_11e9_978a_7470fdc90652row8_col12\" class=\"data row8 col12\" >1</td>\n",
       "            </tr>\n",
       "            <tr>\n",
       "                        <th id=\"T_77c0ae40_f348_11e9_978a_7470fdc90652level0_row9\" class=\"row_heading level0 row9\" >end_date_hour</th>\n",
       "                        <td id=\"T_77c0ae40_f348_11e9_978a_7470fdc90652row9_col0\" class=\"data row9 col0\" >-0.0093</td>\n",
       "                        <td id=\"T_77c0ae40_f348_11e9_978a_7470fdc90652row9_col1\" class=\"data row9 col1\" >-0.0011</td>\n",
       "                        <td id=\"T_77c0ae40_f348_11e9_978a_7470fdc90652row9_col2\" class=\"data row9 col2\" >0.026</td>\n",
       "                        <td id=\"T_77c0ae40_f348_11e9_978a_7470fdc90652row9_col3\" class=\"data row9 col3\" >-0.0014</td>\n",
       "                        <td id=\"T_77c0ae40_f348_11e9_978a_7470fdc90652row9_col4\" class=\"data row9 col4\" >-0.0074</td>\n",
       "                        <td id=\"T_77c0ae40_f348_11e9_978a_7470fdc90652row9_col5\" class=\"data row9 col5\" >0.72</td>\n",
       "                        <td id=\"T_77c0ae40_f348_11e9_978a_7470fdc90652row9_col6\" class=\"data row9 col6\" >0.038</td>\n",
       "                        <td id=\"T_77c0ae40_f348_11e9_978a_7470fdc90652row9_col7\" class=\"data row9 col7\" >0.0023</td>\n",
       "                        <td id=\"T_77c0ae40_f348_11e9_978a_7470fdc90652row9_col8\" class=\"data row9 col8\" >-0.0078</td>\n",
       "                        <td id=\"T_77c0ae40_f348_11e9_978a_7470fdc90652row9_col9\" class=\"data row9 col9\" >1</td>\n",
       "                        <td id=\"T_77c0ae40_f348_11e9_978a_7470fdc90652row9_col10\" class=\"data row9 col10\" >0.063</td>\n",
       "                        <td id=\"T_77c0ae40_f348_11e9_978a_7470fdc90652row9_col11\" class=\"data row9 col11\" >0.0027</td>\n",
       "                        <td id=\"T_77c0ae40_f348_11e9_978a_7470fdc90652row9_col12\" class=\"data row9 col12\" >-0.0092</td>\n",
       "            </tr>\n",
       "            <tr>\n",
       "                        <th id=\"T_77c0ae40_f348_11e9_978a_7470fdc90652level0_row10\" class=\"row_heading level0 row10\" >end_date_minute</th>\n",
       "                        <td id=\"T_77c0ae40_f348_11e9_978a_7470fdc90652row10_col0\" class=\"data row10 col0\" >-0.0039</td>\n",
       "                        <td id=\"T_77c0ae40_f348_11e9_978a_7470fdc90652row10_col1\" class=\"data row10 col1\" >-3.1e-05</td>\n",
       "                        <td id=\"T_77c0ae40_f348_11e9_978a_7470fdc90652row10_col2\" class=\"data row10 col2\" >-0.01</td>\n",
       "                        <td id=\"T_77c0ae40_f348_11e9_978a_7470fdc90652row10_col3\" class=\"data row10 col3\" >0.0021</td>\n",
       "                        <td id=\"T_77c0ae40_f348_11e9_978a_7470fdc90652row10_col4\" class=\"data row10 col4\" >-0.028</td>\n",
       "                        <td id=\"T_77c0ae40_f348_11e9_978a_7470fdc90652row10_col5\" class=\"data row10 col5\" >0.028</td>\n",
       "                        <td id=\"T_77c0ae40_f348_11e9_978a_7470fdc90652row10_col6\" class=\"data row10 col6\" >-0.11</td>\n",
       "                        <td id=\"T_77c0ae40_f348_11e9_978a_7470fdc90652row10_col7\" class=\"data row10 col7\" >0.0064</td>\n",
       "                        <td id=\"T_77c0ae40_f348_11e9_978a_7470fdc90652row10_col8\" class=\"data row10 col8\" >-0.029</td>\n",
       "                        <td id=\"T_77c0ae40_f348_11e9_978a_7470fdc90652row10_col9\" class=\"data row10 col9\" >0.063</td>\n",
       "                        <td id=\"T_77c0ae40_f348_11e9_978a_7470fdc90652row10_col10\" class=\"data row10 col10\" >1</td>\n",
       "                        <td id=\"T_77c0ae40_f348_11e9_978a_7470fdc90652row10_col11\" class=\"data row10 col11\" >0.0066</td>\n",
       "                        <td id=\"T_77c0ae40_f348_11e9_978a_7470fdc90652row10_col12\" class=\"data row10 col12\" >-0.03</td>\n",
       "            </tr>\n",
       "            <tr>\n",
       "                        <th id=\"T_77c0ae40_f348_11e9_978a_7470fdc90652level0_row11\" class=\"row_heading level0 row11\" >end_date_day</th>\n",
       "                        <td id=\"T_77c0ae40_f348_11e9_978a_7470fdc90652row11_col0\" class=\"data row11 col0\" >0.032</td>\n",
       "                        <td id=\"T_77c0ae40_f348_11e9_978a_7470fdc90652row11_col1\" class=\"data row11 col1\" >-0.0029</td>\n",
       "                        <td id=\"T_77c0ae40_f348_11e9_978a_7470fdc90652row11_col2\" class=\"data row11 col2\" >-0.014</td>\n",
       "                        <td id=\"T_77c0ae40_f348_11e9_978a_7470fdc90652row11_col3\" class=\"data row11 col3\" >0.00077</td>\n",
       "                        <td id=\"T_77c0ae40_f348_11e9_978a_7470fdc90652row11_col4\" class=\"data row11 col4\" >-0.084</td>\n",
       "                        <td id=\"T_77c0ae40_f348_11e9_978a_7470fdc90652row11_col5\" class=\"data row11 col5\" >0.0038</td>\n",
       "                        <td id=\"T_77c0ae40_f348_11e9_978a_7470fdc90652row11_col6\" class=\"data row11 col6\" >1.8e-05</td>\n",
       "                        <td id=\"T_77c0ae40_f348_11e9_978a_7470fdc90652row11_col7\" class=\"data row11 col7\" >1</td>\n",
       "                        <td id=\"T_77c0ae40_f348_11e9_978a_7470fdc90652row11_col8\" class=\"data row11 col8\" >-0.29</td>\n",
       "                        <td id=\"T_77c0ae40_f348_11e9_978a_7470fdc90652row11_col9\" class=\"data row11 col9\" >0.0027</td>\n",
       "                        <td id=\"T_77c0ae40_f348_11e9_978a_7470fdc90652row11_col10\" class=\"data row11 col10\" >0.0066</td>\n",
       "                        <td id=\"T_77c0ae40_f348_11e9_978a_7470fdc90652row11_col11\" class=\"data row11 col11\" >1</td>\n",
       "                        <td id=\"T_77c0ae40_f348_11e9_978a_7470fdc90652row11_col12\" class=\"data row11 col12\" >-0.29</td>\n",
       "            </tr>\n",
       "            <tr>\n",
       "                        <th id=\"T_77c0ae40_f348_11e9_978a_7470fdc90652level0_row12\" class=\"row_heading level0 row12\" >end_date_month</th>\n",
       "                        <td id=\"T_77c0ae40_f348_11e9_978a_7470fdc90652row12_col0\" class=\"data row12 col0\" >-0.18</td>\n",
       "                        <td id=\"T_77c0ae40_f348_11e9_978a_7470fdc90652row12_col1\" class=\"data row12 col1\" >0.018</td>\n",
       "                        <td id=\"T_77c0ae40_f348_11e9_978a_7470fdc90652row12_col2\" class=\"data row12 col2\" >0.085</td>\n",
       "                        <td id=\"T_77c0ae40_f348_11e9_978a_7470fdc90652row12_col3\" class=\"data row12 col3\" >-0.054</td>\n",
       "                        <td id=\"T_77c0ae40_f348_11e9_978a_7470fdc90652row12_col4\" class=\"data row12 col4\" >0.88</td>\n",
       "                        <td id=\"T_77c0ae40_f348_11e9_978a_7470fdc90652row12_col5\" class=\"data row12 col5\" >-0.0031</td>\n",
       "                        <td id=\"T_77c0ae40_f348_11e9_978a_7470fdc90652row12_col6\" class=\"data row12 col6\" >0.013</td>\n",
       "                        <td id=\"T_77c0ae40_f348_11e9_978a_7470fdc90652row12_col7\" class=\"data row12 col7\" >-0.29</td>\n",
       "                        <td id=\"T_77c0ae40_f348_11e9_978a_7470fdc90652row12_col8\" class=\"data row12 col8\" >1</td>\n",
       "                        <td id=\"T_77c0ae40_f348_11e9_978a_7470fdc90652row12_col9\" class=\"data row12 col9\" >-0.0092</td>\n",
       "                        <td id=\"T_77c0ae40_f348_11e9_978a_7470fdc90652row12_col10\" class=\"data row12 col10\" >-0.03</td>\n",
       "                        <td id=\"T_77c0ae40_f348_11e9_978a_7470fdc90652row12_col11\" class=\"data row12 col11\" >-0.29</td>\n",
       "                        <td id=\"T_77c0ae40_f348_11e9_978a_7470fdc90652row12_col12\" class=\"data row12 col12\" >1</td>\n",
       "            </tr>\n",
       "    </tbody></table>"
      ],
      "text/plain": [
       "<pandas.io.formats.style.Styler at 0x1acb8dee470>"
      ]
     },
     "execution_count": 24,
     "metadata": {},
     "output_type": "execute_result"
    }
   ],
   "source": [
    "corr = data.corr()\n",
    "corr.style.background_gradient(cmap='viridis').set_precision(2)\n",
    "#elimine caracteristicas que tenian mucha correlacion lo cual me iba a afectar en las predicciones finales."
   ]
  },
  {
   "cell_type": "code",
   "execution_count": 25,
   "metadata": {},
   "outputs": [],
   "source": [
    "data.drop(columns=['end_date_day', 'end_date_month'], inplace=True)"
   ]
  },
  {
   "cell_type": "code",
   "execution_count": 109,
   "metadata": {},
   "outputs": [
    {
     "data": {
      "text/html": [
       "<style  type=\"text/css\" >\n",
       "    #T_264b65c8_f354_11e9_b032_7470fdc90652row0_col0 {\n",
       "            background-color:  #fde725;\n",
       "            color:  #000000;\n",
       "        }    #T_264b65c8_f354_11e9_b032_7470fdc90652row0_col1 {\n",
       "            background-color:  #440256;\n",
       "            color:  #f1f1f1;\n",
       "        }    #T_264b65c8_f354_11e9_b032_7470fdc90652row0_col2 {\n",
       "            background-color:  #440154;\n",
       "            color:  #f1f1f1;\n",
       "        }    #T_264b65c8_f354_11e9_b032_7470fdc90652row0_col3 {\n",
       "            background-color:  #404588;\n",
       "            color:  #f1f1f1;\n",
       "        }    #T_264b65c8_f354_11e9_b032_7470fdc90652row0_col4 {\n",
       "            background-color:  #472f7d;\n",
       "            color:  #f1f1f1;\n",
       "        }    #T_264b65c8_f354_11e9_b032_7470fdc90652row0_col5 {\n",
       "            background-color:  #472d7b;\n",
       "            color:  #f1f1f1;\n",
       "        }    #T_264b65c8_f354_11e9_b032_7470fdc90652row0_col6 {\n",
       "            background-color:  #440154;\n",
       "            color:  #f1f1f1;\n",
       "        }    #T_264b65c8_f354_11e9_b032_7470fdc90652row0_col7 {\n",
       "            background-color:  #3b528b;\n",
       "            color:  #f1f1f1;\n",
       "        }    #T_264b65c8_f354_11e9_b032_7470fdc90652row0_col8 {\n",
       "            background-color:  #481f70;\n",
       "            color:  #f1f1f1;\n",
       "        }    #T_264b65c8_f354_11e9_b032_7470fdc90652row0_col9 {\n",
       "            background-color:  #440154;\n",
       "            color:  #f1f1f1;\n",
       "        }    #T_264b65c8_f354_11e9_b032_7470fdc90652row0_col10 {\n",
       "            background-color:  #482374;\n",
       "            color:  #f1f1f1;\n",
       "        }    #T_264b65c8_f354_11e9_b032_7470fdc90652row1_col0 {\n",
       "            background-color:  #453581;\n",
       "            color:  #f1f1f1;\n",
       "        }    #T_264b65c8_f354_11e9_b032_7470fdc90652row1_col1 {\n",
       "            background-color:  #fde725;\n",
       "            color:  #000000;\n",
       "        }    #T_264b65c8_f354_11e9_b032_7470fdc90652row1_col2 {\n",
       "            background-color:  #470d60;\n",
       "            color:  #f1f1f1;\n",
       "        }    #T_264b65c8_f354_11e9_b032_7470fdc90652row1_col3 {\n",
       "            background-color:  #404588;\n",
       "            color:  #f1f1f1;\n",
       "        }    #T_264b65c8_f354_11e9_b032_7470fdc90652row1_col4 {\n",
       "            background-color:  #3e4989;\n",
       "            color:  #f1f1f1;\n",
       "        }    #T_264b65c8_f354_11e9_b032_7470fdc90652row1_col5 {\n",
       "            background-color:  #481d6f;\n",
       "            color:  #f1f1f1;\n",
       "        }    #T_264b65c8_f354_11e9_b032_7470fdc90652row1_col6 {\n",
       "            background-color:  #453581;\n",
       "            color:  #f1f1f1;\n",
       "        }    #T_264b65c8_f354_11e9_b032_7470fdc90652row1_col7 {\n",
       "            background-color:  #3e4a89;\n",
       "            color:  #f1f1f1;\n",
       "        }    #T_264b65c8_f354_11e9_b032_7470fdc90652row1_col8 {\n",
       "            background-color:  #3c4f8a;\n",
       "            color:  #f1f1f1;\n",
       "        }    #T_264b65c8_f354_11e9_b032_7470fdc90652row1_col9 {\n",
       "            background-color:  #450457;\n",
       "            color:  #f1f1f1;\n",
       "        }    #T_264b65c8_f354_11e9_b032_7470fdc90652row1_col10 {\n",
       "            background-color:  #482475;\n",
       "            color:  #f1f1f1;\n",
       "        }    #T_264b65c8_f354_11e9_b032_7470fdc90652row2_col0 {\n",
       "            background-color:  #46307e;\n",
       "            color:  #f1f1f1;\n",
       "        }    #T_264b65c8_f354_11e9_b032_7470fdc90652row2_col1 {\n",
       "            background-color:  #46075a;\n",
       "            color:  #f1f1f1;\n",
       "        }    #T_264b65c8_f354_11e9_b032_7470fdc90652row2_col2 {\n",
       "            background-color:  #fde725;\n",
       "            color:  #000000;\n",
       "        }    #T_264b65c8_f354_11e9_b032_7470fdc90652row2_col3 {\n",
       "            background-color:  #3f4788;\n",
       "            color:  #f1f1f1;\n",
       "        }    #T_264b65c8_f354_11e9_b032_7470fdc90652row2_col4 {\n",
       "            background-color:  #365c8d;\n",
       "            color:  #f1f1f1;\n",
       "        }    #T_264b65c8_f354_11e9_b032_7470fdc90652row2_col5 {\n",
       "            background-color:  #481a6c;\n",
       "            color:  #f1f1f1;\n",
       "        }    #T_264b65c8_f354_11e9_b032_7470fdc90652row2_col6 {\n",
       "            background-color:  #3d4d8a;\n",
       "            color:  #f1f1f1;\n",
       "        }    #T_264b65c8_f354_11e9_b032_7470fdc90652row2_col7 {\n",
       "            background-color:  #3f4889;\n",
       "            color:  #f1f1f1;\n",
       "        }    #T_264b65c8_f354_11e9_b032_7470fdc90652row2_col8 {\n",
       "            background-color:  #365d8d;\n",
       "            color:  #f1f1f1;\n",
       "        }    #T_264b65c8_f354_11e9_b032_7470fdc90652row2_col9 {\n",
       "            background-color:  #470d60;\n",
       "            color:  #f1f1f1;\n",
       "        }    #T_264b65c8_f354_11e9_b032_7470fdc90652row2_col10 {\n",
       "            background-color:  #482173;\n",
       "            color:  #f1f1f1;\n",
       "        }    #T_264b65c8_f354_11e9_b032_7470fdc90652row3_col0 {\n",
       "            background-color:  #463480;\n",
       "            color:  #f1f1f1;\n",
       "        }    #T_264b65c8_f354_11e9_b032_7470fdc90652row3_col1 {\n",
       "            background-color:  #440154;\n",
       "            color:  #f1f1f1;\n",
       "        }    #T_264b65c8_f354_11e9_b032_7470fdc90652row3_col2 {\n",
       "            background-color:  #460a5d;\n",
       "            color:  #f1f1f1;\n",
       "        }    #T_264b65c8_f354_11e9_b032_7470fdc90652row3_col3 {\n",
       "            background-color:  #fde725;\n",
       "            color:  #000000;\n",
       "        }    #T_264b65c8_f354_11e9_b032_7470fdc90652row3_col4 {\n",
       "            background-color:  #440154;\n",
       "            color:  #f1f1f1;\n",
       "        }    #T_264b65c8_f354_11e9_b032_7470fdc90652row3_col5 {\n",
       "            background-color:  #481d6f;\n",
       "            color:  #f1f1f1;\n",
       "        }    #T_264b65c8_f354_11e9_b032_7470fdc90652row3_col6 {\n",
       "            background-color:  #453781;\n",
       "            color:  #f1f1f1;\n",
       "        }    #T_264b65c8_f354_11e9_b032_7470fdc90652row3_col7 {\n",
       "            background-color:  #3e4c8a;\n",
       "            color:  #f1f1f1;\n",
       "        }    #T_264b65c8_f354_11e9_b032_7470fdc90652row3_col8 {\n",
       "            background-color:  #423f85;\n",
       "            color:  #f1f1f1;\n",
       "        }    #T_264b65c8_f354_11e9_b032_7470fdc90652row3_col9 {\n",
       "            background-color:  #450457;\n",
       "            color:  #f1f1f1;\n",
       "        }    #T_264b65c8_f354_11e9_b032_7470fdc90652row3_col10 {\n",
       "            background-color:  #482475;\n",
       "            color:  #f1f1f1;\n",
       "        }    #T_264b65c8_f354_11e9_b032_7470fdc90652row4_col0 {\n",
       "            background-color:  #481b6d;\n",
       "            color:  #f1f1f1;\n",
       "        }    #T_264b65c8_f354_11e9_b032_7470fdc90652row4_col1 {\n",
       "            background-color:  #46075a;\n",
       "            color:  #f1f1f1;\n",
       "        }    #T_264b65c8_f354_11e9_b032_7470fdc90652row4_col2 {\n",
       "            background-color:  #482979;\n",
       "            color:  #f1f1f1;\n",
       "        }    #T_264b65c8_f354_11e9_b032_7470fdc90652row4_col3 {\n",
       "            background-color:  #440154;\n",
       "            color:  #f1f1f1;\n",
       "        }    #T_264b65c8_f354_11e9_b032_7470fdc90652row4_col4 {\n",
       "            background-color:  #fde725;\n",
       "            color:  #000000;\n",
       "        }    #T_264b65c8_f354_11e9_b032_7470fdc90652row4_col5 {\n",
       "            background-color:  #481d6f;\n",
       "            color:  #f1f1f1;\n",
       "        }    #T_264b65c8_f354_11e9_b032_7470fdc90652row4_col6 {\n",
       "            background-color:  #443983;\n",
       "            color:  #f1f1f1;\n",
       "        }    #T_264b65c8_f354_11e9_b032_7470fdc90652row4_col7 {\n",
       "            background-color:  #453882;\n",
       "            color:  #f1f1f1;\n",
       "        }    #T_264b65c8_f354_11e9_b032_7470fdc90652row4_col8 {\n",
       "            background-color:  #c2df23;\n",
       "            color:  #000000;\n",
       "        }    #T_264b65c8_f354_11e9_b032_7470fdc90652row4_col9 {\n",
       "            background-color:  #440154;\n",
       "            color:  #f1f1f1;\n",
       "        }    #T_264b65c8_f354_11e9_b032_7470fdc90652row4_col10 {\n",
       "            background-color:  #481c6e;\n",
       "            color:  #f1f1f1;\n",
       "        }    #T_264b65c8_f354_11e9_b032_7470fdc90652row5_col0 {\n",
       "            background-color:  #414287;\n",
       "            color:  #f1f1f1;\n",
       "        }    #T_264b65c8_f354_11e9_b032_7470fdc90652row5_col1 {\n",
       "            background-color:  #440256;\n",
       "            color:  #f1f1f1;\n",
       "        }    #T_264b65c8_f354_11e9_b032_7470fdc90652row5_col2 {\n",
       "            background-color:  #450457;\n",
       "            color:  #f1f1f1;\n",
       "        }    #T_264b65c8_f354_11e9_b032_7470fdc90652row5_col3 {\n",
       "            background-color:  #3f4788;\n",
       "            color:  #f1f1f1;\n",
       "        }    #T_264b65c8_f354_11e9_b032_7470fdc90652row5_col4 {\n",
       "            background-color:  #404688;\n",
       "            color:  #f1f1f1;\n",
       "        }    #T_264b65c8_f354_11e9_b032_7470fdc90652row5_col5 {\n",
       "            background-color:  #fde725;\n",
       "            color:  #000000;\n",
       "        }    #T_264b65c8_f354_11e9_b032_7470fdc90652row5_col6 {\n",
       "            background-color:  #481f70;\n",
       "            color:  #f1f1f1;\n",
       "        }    #T_264b65c8_f354_11e9_b032_7470fdc90652row5_col7 {\n",
       "            background-color:  #3e4c8a;\n",
       "            color:  #f1f1f1;\n",
       "        }    #T_264b65c8_f354_11e9_b032_7470fdc90652row5_col8 {\n",
       "            background-color:  #3e4a89;\n",
       "            color:  #f1f1f1;\n",
       "        }    #T_264b65c8_f354_11e9_b032_7470fdc90652row5_col9 {\n",
       "            background-color:  #50c46a;\n",
       "            color:  #000000;\n",
       "        }    #T_264b65c8_f354_11e9_b032_7470fdc90652row5_col10 {\n",
       "            background-color:  #472c7a;\n",
       "            color:  #f1f1f1;\n",
       "        }    #T_264b65c8_f354_11e9_b032_7470fdc90652row6_col0 {\n",
       "            background-color:  #440154;\n",
       "            color:  #f1f1f1;\n",
       "        }    #T_264b65c8_f354_11e9_b032_7470fdc90652row6_col1 {\n",
       "            background-color:  #440256;\n",
       "            color:  #f1f1f1;\n",
       "        }    #T_264b65c8_f354_11e9_b032_7470fdc90652row6_col2 {\n",
       "            background-color:  #482677;\n",
       "            color:  #f1f1f1;\n",
       "        }    #T_264b65c8_f354_11e9_b032_7470fdc90652row6_col3 {\n",
       "            background-color:  #3f4788;\n",
       "            color:  #f1f1f1;\n",
       "        }    #T_264b65c8_f354_11e9_b032_7470fdc90652row6_col4 {\n",
       "            background-color:  #3e4989;\n",
       "            color:  #f1f1f1;\n",
       "        }    #T_264b65c8_f354_11e9_b032_7470fdc90652row6_col5 {\n",
       "            background-color:  #440154;\n",
       "            color:  #f1f1f1;\n",
       "        }    #T_264b65c8_f354_11e9_b032_7470fdc90652row6_col6 {\n",
       "            background-color:  #fde725;\n",
       "            color:  #000000;\n",
       "        }    #T_264b65c8_f354_11e9_b032_7470fdc90652row6_col7 {\n",
       "            background-color:  #3e4a89;\n",
       "            color:  #f1f1f1;\n",
       "        }    #T_264b65c8_f354_11e9_b032_7470fdc90652row6_col8 {\n",
       "            background-color:  #3d4e8a;\n",
       "            color:  #f1f1f1;\n",
       "        }    #T_264b65c8_f354_11e9_b032_7470fdc90652row6_col9 {\n",
       "            background-color:  #471365;\n",
       "            color:  #f1f1f1;\n",
       "        }    #T_264b65c8_f354_11e9_b032_7470fdc90652row6_col10 {\n",
       "            background-color:  #440154;\n",
       "            color:  #f1f1f1;\n",
       "        }    #T_264b65c8_f354_11e9_b032_7470fdc90652row7_col0 {\n",
       "            background-color:  #423f85;\n",
       "            color:  #f1f1f1;\n",
       "        }    #T_264b65c8_f354_11e9_b032_7470fdc90652row7_col1 {\n",
       "            background-color:  #440256;\n",
       "            color:  #f1f1f1;\n",
       "        }    #T_264b65c8_f354_11e9_b032_7470fdc90652row7_col2 {\n",
       "            background-color:  #440256;\n",
       "            color:  #f1f1f1;\n",
       "        }    #T_264b65c8_f354_11e9_b032_7470fdc90652row7_col3 {\n",
       "            background-color:  #3f4788;\n",
       "            color:  #f1f1f1;\n",
       "        }    #T_264b65c8_f354_11e9_b032_7470fdc90652row7_col4 {\n",
       "            background-color:  #46327e;\n",
       "            color:  #f1f1f1;\n",
       "        }    #T_264b65c8_f354_11e9_b032_7470fdc90652row7_col5 {\n",
       "            background-color:  #481f70;\n",
       "            color:  #f1f1f1;\n",
       "        }    #T_264b65c8_f354_11e9_b032_7470fdc90652row7_col6 {\n",
       "            background-color:  #453581;\n",
       "            color:  #f1f1f1;\n",
       "        }    #T_264b65c8_f354_11e9_b032_7470fdc90652row7_col7 {\n",
       "            background-color:  #fde725;\n",
       "            color:  #000000;\n",
       "        }    #T_264b65c8_f354_11e9_b032_7470fdc90652row7_col8 {\n",
       "            background-color:  #440154;\n",
       "            color:  #f1f1f1;\n",
       "        }    #T_264b65c8_f354_11e9_b032_7470fdc90652row7_col9 {\n",
       "            background-color:  #450457;\n",
       "            color:  #f1f1f1;\n",
       "        }    #T_264b65c8_f354_11e9_b032_7470fdc90652row7_col10 {\n",
       "            background-color:  #482576;\n",
       "            color:  #f1f1f1;\n",
       "        }    #T_264b65c8_f354_11e9_b032_7470fdc90652row8_col0 {\n",
       "            background-color:  #440154;\n",
       "            color:  #f1f1f1;\n",
       "        }    #T_264b65c8_f354_11e9_b032_7470fdc90652row8_col1 {\n",
       "            background-color:  #460a5d;\n",
       "            color:  #f1f1f1;\n",
       "        }    #T_264b65c8_f354_11e9_b032_7470fdc90652row8_col2 {\n",
       "            background-color:  #482576;\n",
       "            color:  #f1f1f1;\n",
       "        }    #T_264b65c8_f354_11e9_b032_7470fdc90652row8_col3 {\n",
       "            background-color:  #443983;\n",
       "            color:  #f1f1f1;\n",
       "        }    #T_264b65c8_f354_11e9_b032_7470fdc90652row8_col4 {\n",
       "            background-color:  #c2df23;\n",
       "            color:  #000000;\n",
       "        }    #T_264b65c8_f354_11e9_b032_7470fdc90652row8_col5 {\n",
       "            background-color:  #481c6e;\n",
       "            color:  #f1f1f1;\n",
       "        }    #T_264b65c8_f354_11e9_b032_7470fdc90652row8_col6 {\n",
       "            background-color:  #443983;\n",
       "            color:  #f1f1f1;\n",
       "        }    #T_264b65c8_f354_11e9_b032_7470fdc90652row8_col7 {\n",
       "            background-color:  #440154;\n",
       "            color:  #f1f1f1;\n",
       "        }    #T_264b65c8_f354_11e9_b032_7470fdc90652row8_col8 {\n",
       "            background-color:  #fde725;\n",
       "            color:  #000000;\n",
       "        }    #T_264b65c8_f354_11e9_b032_7470fdc90652row8_col9 {\n",
       "            background-color:  #440154;\n",
       "            color:  #f1f1f1;\n",
       "        }    #T_264b65c8_f354_11e9_b032_7470fdc90652row8_col10 {\n",
       "            background-color:  #481b6d;\n",
       "            color:  #f1f1f1;\n",
       "        }    #T_264b65c8_f354_11e9_b032_7470fdc90652row9_col0 {\n",
       "            background-color:  #46337f;\n",
       "            color:  #f1f1f1;\n",
       "        }    #T_264b65c8_f354_11e9_b032_7470fdc90652row9_col1 {\n",
       "            background-color:  #440256;\n",
       "            color:  #f1f1f1;\n",
       "        }    #T_264b65c8_f354_11e9_b032_7470fdc90652row9_col2 {\n",
       "            background-color:  #471164;\n",
       "            color:  #f1f1f1;\n",
       "        }    #T_264b65c8_f354_11e9_b032_7470fdc90652row9_col3 {\n",
       "            background-color:  #404688;\n",
       "            color:  #f1f1f1;\n",
       "        }    #T_264b65c8_f354_11e9_b032_7470fdc90652row9_col4 {\n",
       "            background-color:  #404588;\n",
       "            color:  #f1f1f1;\n",
       "        }    #T_264b65c8_f354_11e9_b032_7470fdc90652row9_col5 {\n",
       "            background-color:  #5ac864;\n",
       "            color:  #000000;\n",
       "        }    #T_264b65c8_f354_11e9_b032_7470fdc90652row9_col6 {\n",
       "            background-color:  #424086;\n",
       "            color:  #f1f1f1;\n",
       "        }    #T_264b65c8_f354_11e9_b032_7470fdc90652row9_col7 {\n",
       "            background-color:  #3e4c8a;\n",
       "            color:  #f1f1f1;\n",
       "        }    #T_264b65c8_f354_11e9_b032_7470fdc90652row9_col8 {\n",
       "            background-color:  #3e4989;\n",
       "            color:  #f1f1f1;\n",
       "        }    #T_264b65c8_f354_11e9_b032_7470fdc90652row9_col9 {\n",
       "            background-color:  #fde725;\n",
       "            color:  #000000;\n",
       "        }    #T_264b65c8_f354_11e9_b032_7470fdc90652row9_col10 {\n",
       "            background-color:  #453581;\n",
       "            color:  #f1f1f1;\n",
       "        }    #T_264b65c8_f354_11e9_b032_7470fdc90652row10_col0 {\n",
       "            background-color:  #453581;\n",
       "            color:  #f1f1f1;\n",
       "        }    #T_264b65c8_f354_11e9_b032_7470fdc90652row10_col1 {\n",
       "            background-color:  #440256;\n",
       "            color:  #f1f1f1;\n",
       "        }    #T_264b65c8_f354_11e9_b032_7470fdc90652row10_col2 {\n",
       "            background-color:  #450457;\n",
       "            color:  #f1f1f1;\n",
       "        }    #T_264b65c8_f354_11e9_b032_7470fdc90652row10_col3 {\n",
       "            background-color:  #3f4788;\n",
       "            color:  #f1f1f1;\n",
       "        }    #T_264b65c8_f354_11e9_b032_7470fdc90652row10_col4 {\n",
       "            background-color:  #424086;\n",
       "            color:  #f1f1f1;\n",
       "        }    #T_264b65c8_f354_11e9_b032_7470fdc90652row10_col5 {\n",
       "            background-color:  #482576;\n",
       "            color:  #f1f1f1;\n",
       "        }    #T_264b65c8_f354_11e9_b032_7470fdc90652row10_col6 {\n",
       "            background-color:  #48186a;\n",
       "            color:  #f1f1f1;\n",
       "        }    #T_264b65c8_f354_11e9_b032_7470fdc90652row10_col7 {\n",
       "            background-color:  #3d4d8a;\n",
       "            color:  #f1f1f1;\n",
       "        }    #T_264b65c8_f354_11e9_b032_7470fdc90652row10_col8 {\n",
       "            background-color:  #404588;\n",
       "            color:  #f1f1f1;\n",
       "        }    #T_264b65c8_f354_11e9_b032_7470fdc90652row10_col9 {\n",
       "            background-color:  #481b6d;\n",
       "            color:  #f1f1f1;\n",
       "        }    #T_264b65c8_f354_11e9_b032_7470fdc90652row10_col10 {\n",
       "            background-color:  #fde725;\n",
       "            color:  #000000;\n",
       "        }</style><table id=\"T_264b65c8_f354_11e9_b032_7470fdc90652\" ><thead>    <tr>        <th class=\"blank level0\" ></th>        <th class=\"col_heading level0 col0\" >price</th>        <th class=\"col_heading level0 col1\" >insert_date_hour</th>        <th class=\"col_heading level0 col2\" >insert_date_minute</th>        <th class=\"col_heading level0 col3\" >insert_date_day</th>        <th class=\"col_heading level0 col4\" >insert_date_month</th>        <th class=\"col_heading level0 col5\" >start_date_hour</th>        <th class=\"col_heading level0 col6\" >start_date_minute</th>        <th class=\"col_heading level0 col7\" >start_date_day</th>        <th class=\"col_heading level0 col8\" >start_date_month</th>        <th class=\"col_heading level0 col9\" >end_date_hour</th>        <th class=\"col_heading level0 col10\" >end_date_minute</th>    </tr></thead><tbody>\n",
       "                <tr>\n",
       "                        <th id=\"T_264b65c8_f354_11e9_b032_7470fdc90652level0_row0\" class=\"row_heading level0 row0\" >price</th>\n",
       "                        <td id=\"T_264b65c8_f354_11e9_b032_7470fdc90652row0_col0\" class=\"data row0 col0\" >1</td>\n",
       "                        <td id=\"T_264b65c8_f354_11e9_b032_7470fdc90652row0_col1\" class=\"data row0 col1\" >-0.00077</td>\n",
       "                        <td id=\"T_264b65c8_f354_11e9_b032_7470fdc90652row0_col2\" class=\"data row0 col2\" >-0.021</td>\n",
       "                        <td id=\"T_264b65c8_f354_11e9_b032_7470fdc90652row0_col3\" class=\"data row0 col3\" >-0.006</td>\n",
       "                        <td id=\"T_264b65c8_f354_11e9_b032_7470fdc90652row0_col4\" class=\"data row0 col4\" >-0.098</td>\n",
       "                        <td id=\"T_264b65c8_f354_11e9_b032_7470fdc90652row0_col5\" class=\"data row0 col5\" >0.049</td>\n",
       "                        <td id=\"T_264b65c8_f354_11e9_b032_7470fdc90652row0_col6\" class=\"data row0 col6\" >-0.19</td>\n",
       "                        <td id=\"T_264b65c8_f354_11e9_b032_7470fdc90652row0_col7\" class=\"data row0 col7\" >0.033</td>\n",
       "                        <td id=\"T_264b65c8_f354_11e9_b032_7470fdc90652row0_col8\" class=\"data row0 col8\" >-0.18</td>\n",
       "                        <td id=\"T_264b65c8_f354_11e9_b032_7470fdc90652row0_col9\" class=\"data row0 col9\" >-0.0093</td>\n",
       "                        <td id=\"T_264b65c8_f354_11e9_b032_7470fdc90652row0_col10\" class=\"data row0 col10\" >-0.0039</td>\n",
       "            </tr>\n",
       "            <tr>\n",
       "                        <th id=\"T_264b65c8_f354_11e9_b032_7470fdc90652level0_row1\" class=\"row_heading level0 row1\" >insert_date_hour</th>\n",
       "                        <td id=\"T_264b65c8_f354_11e9_b032_7470fdc90652row1_col0\" class=\"data row1 col0\" >-0.00077</td>\n",
       "                        <td id=\"T_264b65c8_f354_11e9_b032_7470fdc90652row1_col1\" class=\"data row1 col1\" >1</td>\n",
       "                        <td id=\"T_264b65c8_f354_11e9_b032_7470fdc90652row1_col2\" class=\"data row1 col2\" >0.011</td>\n",
       "                        <td id=\"T_264b65c8_f354_11e9_b032_7470fdc90652row1_col3\" class=\"data row1 col3\" >-0.0073</td>\n",
       "                        <td id=\"T_264b65c8_f354_11e9_b032_7470fdc90652row1_col4\" class=\"data row1 col4\" >0.012</td>\n",
       "                        <td id=\"T_264b65c8_f354_11e9_b032_7470fdc90652row1_col5\" class=\"data row1 col5\" >-0.0011</td>\n",
       "                        <td id=\"T_264b65c8_f354_11e9_b032_7470fdc90652row1_col6\" class=\"data row1 col6\" >-0.0029</td>\n",
       "                        <td id=\"T_264b65c8_f354_11e9_b032_7470fdc90652row1_col7\" class=\"data row1 col7\" >-0.0029</td>\n",
       "                        <td id=\"T_264b65c8_f354_11e9_b032_7470fdc90652row1_col8\" class=\"data row1 col8\" >0.018</td>\n",
       "                        <td id=\"T_264b65c8_f354_11e9_b032_7470fdc90652row1_col9\" class=\"data row1 col9\" >-0.0011</td>\n",
       "                        <td id=\"T_264b65c8_f354_11e9_b032_7470fdc90652row1_col10\" class=\"data row1 col10\" >-3.1e-05</td>\n",
       "            </tr>\n",
       "            <tr>\n",
       "                        <th id=\"T_264b65c8_f354_11e9_b032_7470fdc90652level0_row2\" class=\"row_heading level0 row2\" >insert_date_minute</th>\n",
       "                        <td id=\"T_264b65c8_f354_11e9_b032_7470fdc90652row2_col0\" class=\"data row2 col0\" >-0.021</td>\n",
       "                        <td id=\"T_264b65c8_f354_11e9_b032_7470fdc90652row2_col1\" class=\"data row2 col1\" >0.011</td>\n",
       "                        <td id=\"T_264b65c8_f354_11e9_b032_7470fdc90652row2_col2\" class=\"data row2 col2\" >1</td>\n",
       "                        <td id=\"T_264b65c8_f354_11e9_b032_7470fdc90652row2_col3\" class=\"data row2 col3\" >0.0035</td>\n",
       "                        <td id=\"T_264b65c8_f354_11e9_b032_7470fdc90652row2_col4\" class=\"data row2 col4\" >0.096</td>\n",
       "                        <td id=\"T_264b65c8_f354_11e9_b032_7470fdc90652row2_col5\" class=\"data row2 col5\" >-0.012</td>\n",
       "                        <td id=\"T_264b65c8_f354_11e9_b032_7470fdc90652row2_col6\" class=\"data row2 col6\" >0.089</td>\n",
       "                        <td id=\"T_264b65c8_f354_11e9_b032_7470fdc90652row2_col7\" class=\"data row2 col7\" >-0.014</td>\n",
       "                        <td id=\"T_264b65c8_f354_11e9_b032_7470fdc90652row2_col8\" class=\"data row2 col8\" >0.085</td>\n",
       "                        <td id=\"T_264b65c8_f354_11e9_b032_7470fdc90652row2_col9\" class=\"data row2 col9\" >0.026</td>\n",
       "                        <td id=\"T_264b65c8_f354_11e9_b032_7470fdc90652row2_col10\" class=\"data row2 col10\" >-0.01</td>\n",
       "            </tr>\n",
       "            <tr>\n",
       "                        <th id=\"T_264b65c8_f354_11e9_b032_7470fdc90652level0_row3\" class=\"row_heading level0 row3\" >insert_date_day</th>\n",
       "                        <td id=\"T_264b65c8_f354_11e9_b032_7470fdc90652row3_col0\" class=\"data row3 col0\" >-0.006</td>\n",
       "                        <td id=\"T_264b65c8_f354_11e9_b032_7470fdc90652row3_col1\" class=\"data row3 col1\" >-0.0073</td>\n",
       "                        <td id=\"T_264b65c8_f354_11e9_b032_7470fdc90652row3_col2\" class=\"data row3 col2\" >0.0035</td>\n",
       "                        <td id=\"T_264b65c8_f354_11e9_b032_7470fdc90652row3_col3\" class=\"data row3 col3\" >1</td>\n",
       "                        <td id=\"T_264b65c8_f354_11e9_b032_7470fdc90652row3_col4\" class=\"data row3 col4\" >-0.27</td>\n",
       "                        <td id=\"T_264b65c8_f354_11e9_b032_7470fdc90652row3_col5\" class=\"data row3 col5\" >0.00017</td>\n",
       "                        <td id=\"T_264b65c8_f354_11e9_b032_7470fdc90652row3_col6\" class=\"data row3 col6\" >0.0019</td>\n",
       "                        <td id=\"T_264b65c8_f354_11e9_b032_7470fdc90652row3_col7\" class=\"data row3 col7\" >0.001</td>\n",
       "                        <td id=\"T_264b65c8_f354_11e9_b032_7470fdc90652row3_col8\" class=\"data row3 col8\" >-0.054</td>\n",
       "                        <td id=\"T_264b65c8_f354_11e9_b032_7470fdc90652row3_col9\" class=\"data row3 col9\" >-0.0014</td>\n",
       "                        <td id=\"T_264b65c8_f354_11e9_b032_7470fdc90652row3_col10\" class=\"data row3 col10\" >0.0021</td>\n",
       "            </tr>\n",
       "            <tr>\n",
       "                        <th id=\"T_264b65c8_f354_11e9_b032_7470fdc90652level0_row4\" class=\"row_heading level0 row4\" >insert_date_month</th>\n",
       "                        <td id=\"T_264b65c8_f354_11e9_b032_7470fdc90652row4_col0\" class=\"data row4 col0\" >-0.098</td>\n",
       "                        <td id=\"T_264b65c8_f354_11e9_b032_7470fdc90652row4_col1\" class=\"data row4 col1\" >0.012</td>\n",
       "                        <td id=\"T_264b65c8_f354_11e9_b032_7470fdc90652row4_col2\" class=\"data row4 col2\" >0.096</td>\n",
       "                        <td id=\"T_264b65c8_f354_11e9_b032_7470fdc90652row4_col3\" class=\"data row4 col3\" >-0.27</td>\n",
       "                        <td id=\"T_264b65c8_f354_11e9_b032_7470fdc90652row4_col4\" class=\"data row4 col4\" >1</td>\n",
       "                        <td id=\"T_264b65c8_f354_11e9_b032_7470fdc90652row4_col5\" class=\"data row4 col5\" >-0.00023</td>\n",
       "                        <td id=\"T_264b65c8_f354_11e9_b032_7470fdc90652row4_col6\" class=\"data row4 col6\" >0.013</td>\n",
       "                        <td id=\"T_264b65c8_f354_11e9_b032_7470fdc90652row4_col7\" class=\"data row4 col7\" >-0.084</td>\n",
       "                        <td id=\"T_264b65c8_f354_11e9_b032_7470fdc90652row4_col8\" class=\"data row4 col8\" >0.88</td>\n",
       "                        <td id=\"T_264b65c8_f354_11e9_b032_7470fdc90652row4_col9\" class=\"data row4 col9\" >-0.0074</td>\n",
       "                        <td id=\"T_264b65c8_f354_11e9_b032_7470fdc90652row4_col10\" class=\"data row4 col10\" >-0.028</td>\n",
       "            </tr>\n",
       "            <tr>\n",
       "                        <th id=\"T_264b65c8_f354_11e9_b032_7470fdc90652level0_row5\" class=\"row_heading level0 row5\" >start_date_hour</th>\n",
       "                        <td id=\"T_264b65c8_f354_11e9_b032_7470fdc90652row5_col0\" class=\"data row5 col0\" >0.049</td>\n",
       "                        <td id=\"T_264b65c8_f354_11e9_b032_7470fdc90652row5_col1\" class=\"data row5 col1\" >-0.0011</td>\n",
       "                        <td id=\"T_264b65c8_f354_11e9_b032_7470fdc90652row5_col2\" class=\"data row5 col2\" >-0.012</td>\n",
       "                        <td id=\"T_264b65c8_f354_11e9_b032_7470fdc90652row5_col3\" class=\"data row5 col3\" >0.00017</td>\n",
       "                        <td id=\"T_264b65c8_f354_11e9_b032_7470fdc90652row5_col4\" class=\"data row5 col4\" >-0.00023</td>\n",
       "                        <td id=\"T_264b65c8_f354_11e9_b032_7470fdc90652row5_col5\" class=\"data row5 col5\" >1</td>\n",
       "                        <td id=\"T_264b65c8_f354_11e9_b032_7470fdc90652row5_col6\" class=\"data row5 col6\" >-0.087</td>\n",
       "                        <td id=\"T_264b65c8_f354_11e9_b032_7470fdc90652row5_col7\" class=\"data row5 col7\" >0.004</td>\n",
       "                        <td id=\"T_264b65c8_f354_11e9_b032_7470fdc90652row5_col8\" class=\"data row5 col8\" >-0.004</td>\n",
       "                        <td id=\"T_264b65c8_f354_11e9_b032_7470fdc90652row5_col9\" class=\"data row5 col9\" >0.72</td>\n",
       "                        <td id=\"T_264b65c8_f354_11e9_b032_7470fdc90652row5_col10\" class=\"data row5 col10\" >0.028</td>\n",
       "            </tr>\n",
       "            <tr>\n",
       "                        <th id=\"T_264b65c8_f354_11e9_b032_7470fdc90652level0_row6\" class=\"row_heading level0 row6\" >start_date_minute</th>\n",
       "                        <td id=\"T_264b65c8_f354_11e9_b032_7470fdc90652row6_col0\" class=\"data row6 col0\" >-0.19</td>\n",
       "                        <td id=\"T_264b65c8_f354_11e9_b032_7470fdc90652row6_col1\" class=\"data row6 col1\" >-0.0029</td>\n",
       "                        <td id=\"T_264b65c8_f354_11e9_b032_7470fdc90652row6_col2\" class=\"data row6 col2\" >0.089</td>\n",
       "                        <td id=\"T_264b65c8_f354_11e9_b032_7470fdc90652row6_col3\" class=\"data row6 col3\" >0.0019</td>\n",
       "                        <td id=\"T_264b65c8_f354_11e9_b032_7470fdc90652row6_col4\" class=\"data row6 col4\" >0.013</td>\n",
       "                        <td id=\"T_264b65c8_f354_11e9_b032_7470fdc90652row6_col5\" class=\"data row6 col5\" >-0.087</td>\n",
       "                        <td id=\"T_264b65c8_f354_11e9_b032_7470fdc90652row6_col6\" class=\"data row6 col6\" >1</td>\n",
       "                        <td id=\"T_264b65c8_f354_11e9_b032_7470fdc90652row6_col7\" class=\"data row6 col7\" >-0.00028</td>\n",
       "                        <td id=\"T_264b65c8_f354_11e9_b032_7470fdc90652row6_col8\" class=\"data row6 col8\" >0.013</td>\n",
       "                        <td id=\"T_264b65c8_f354_11e9_b032_7470fdc90652row6_col9\" class=\"data row6 col9\" >0.038</td>\n",
       "                        <td id=\"T_264b65c8_f354_11e9_b032_7470fdc90652row6_col10\" class=\"data row6 col10\" >-0.11</td>\n",
       "            </tr>\n",
       "            <tr>\n",
       "                        <th id=\"T_264b65c8_f354_11e9_b032_7470fdc90652level0_row7\" class=\"row_heading level0 row7\" >start_date_day</th>\n",
       "                        <td id=\"T_264b65c8_f354_11e9_b032_7470fdc90652row7_col0\" class=\"data row7 col0\" >0.033</td>\n",
       "                        <td id=\"T_264b65c8_f354_11e9_b032_7470fdc90652row7_col1\" class=\"data row7 col1\" >-0.0029</td>\n",
       "                        <td id=\"T_264b65c8_f354_11e9_b032_7470fdc90652row7_col2\" class=\"data row7 col2\" >-0.014</td>\n",
       "                        <td id=\"T_264b65c8_f354_11e9_b032_7470fdc90652row7_col3\" class=\"data row7 col3\" >0.001</td>\n",
       "                        <td id=\"T_264b65c8_f354_11e9_b032_7470fdc90652row7_col4\" class=\"data row7 col4\" >-0.084</td>\n",
       "                        <td id=\"T_264b65c8_f354_11e9_b032_7470fdc90652row7_col5\" class=\"data row7 col5\" >0.004</td>\n",
       "                        <td id=\"T_264b65c8_f354_11e9_b032_7470fdc90652row7_col6\" class=\"data row7 col6\" >-0.00028</td>\n",
       "                        <td id=\"T_264b65c8_f354_11e9_b032_7470fdc90652row7_col7\" class=\"data row7 col7\" >1</td>\n",
       "                        <td id=\"T_264b65c8_f354_11e9_b032_7470fdc90652row7_col8\" class=\"data row7 col8\" >-0.29</td>\n",
       "                        <td id=\"T_264b65c8_f354_11e9_b032_7470fdc90652row7_col9\" class=\"data row7 col9\" >0.0023</td>\n",
       "                        <td id=\"T_264b65c8_f354_11e9_b032_7470fdc90652row7_col10\" class=\"data row7 col10\" >0.0064</td>\n",
       "            </tr>\n",
       "            <tr>\n",
       "                        <th id=\"T_264b65c8_f354_11e9_b032_7470fdc90652level0_row8\" class=\"row_heading level0 row8\" >start_date_month</th>\n",
       "                        <td id=\"T_264b65c8_f354_11e9_b032_7470fdc90652row8_col0\" class=\"data row8 col0\" >-0.18</td>\n",
       "                        <td id=\"T_264b65c8_f354_11e9_b032_7470fdc90652row8_col1\" class=\"data row8 col1\" >0.018</td>\n",
       "                        <td id=\"T_264b65c8_f354_11e9_b032_7470fdc90652row8_col2\" class=\"data row8 col2\" >0.085</td>\n",
       "                        <td id=\"T_264b65c8_f354_11e9_b032_7470fdc90652row8_col3\" class=\"data row8 col3\" >-0.054</td>\n",
       "                        <td id=\"T_264b65c8_f354_11e9_b032_7470fdc90652row8_col4\" class=\"data row8 col4\" >0.88</td>\n",
       "                        <td id=\"T_264b65c8_f354_11e9_b032_7470fdc90652row8_col5\" class=\"data row8 col5\" >-0.004</td>\n",
       "                        <td id=\"T_264b65c8_f354_11e9_b032_7470fdc90652row8_col6\" class=\"data row8 col6\" >0.013</td>\n",
       "                        <td id=\"T_264b65c8_f354_11e9_b032_7470fdc90652row8_col7\" class=\"data row8 col7\" >-0.29</td>\n",
       "                        <td id=\"T_264b65c8_f354_11e9_b032_7470fdc90652row8_col8\" class=\"data row8 col8\" >1</td>\n",
       "                        <td id=\"T_264b65c8_f354_11e9_b032_7470fdc90652row8_col9\" class=\"data row8 col9\" >-0.0078</td>\n",
       "                        <td id=\"T_264b65c8_f354_11e9_b032_7470fdc90652row8_col10\" class=\"data row8 col10\" >-0.029</td>\n",
       "            </tr>\n",
       "            <tr>\n",
       "                        <th id=\"T_264b65c8_f354_11e9_b032_7470fdc90652level0_row9\" class=\"row_heading level0 row9\" >end_date_hour</th>\n",
       "                        <td id=\"T_264b65c8_f354_11e9_b032_7470fdc90652row9_col0\" class=\"data row9 col0\" >-0.0093</td>\n",
       "                        <td id=\"T_264b65c8_f354_11e9_b032_7470fdc90652row9_col1\" class=\"data row9 col1\" >-0.0011</td>\n",
       "                        <td id=\"T_264b65c8_f354_11e9_b032_7470fdc90652row9_col2\" class=\"data row9 col2\" >0.026</td>\n",
       "                        <td id=\"T_264b65c8_f354_11e9_b032_7470fdc90652row9_col3\" class=\"data row9 col3\" >-0.0014</td>\n",
       "                        <td id=\"T_264b65c8_f354_11e9_b032_7470fdc90652row9_col4\" class=\"data row9 col4\" >-0.0074</td>\n",
       "                        <td id=\"T_264b65c8_f354_11e9_b032_7470fdc90652row9_col5\" class=\"data row9 col5\" >0.72</td>\n",
       "                        <td id=\"T_264b65c8_f354_11e9_b032_7470fdc90652row9_col6\" class=\"data row9 col6\" >0.038</td>\n",
       "                        <td id=\"T_264b65c8_f354_11e9_b032_7470fdc90652row9_col7\" class=\"data row9 col7\" >0.0023</td>\n",
       "                        <td id=\"T_264b65c8_f354_11e9_b032_7470fdc90652row9_col8\" class=\"data row9 col8\" >-0.0078</td>\n",
       "                        <td id=\"T_264b65c8_f354_11e9_b032_7470fdc90652row9_col9\" class=\"data row9 col9\" >1</td>\n",
       "                        <td id=\"T_264b65c8_f354_11e9_b032_7470fdc90652row9_col10\" class=\"data row9 col10\" >0.063</td>\n",
       "            </tr>\n",
       "            <tr>\n",
       "                        <th id=\"T_264b65c8_f354_11e9_b032_7470fdc90652level0_row10\" class=\"row_heading level0 row10\" >end_date_minute</th>\n",
       "                        <td id=\"T_264b65c8_f354_11e9_b032_7470fdc90652row10_col0\" class=\"data row10 col0\" >-0.0039</td>\n",
       "                        <td id=\"T_264b65c8_f354_11e9_b032_7470fdc90652row10_col1\" class=\"data row10 col1\" >-3.1e-05</td>\n",
       "                        <td id=\"T_264b65c8_f354_11e9_b032_7470fdc90652row10_col2\" class=\"data row10 col2\" >-0.01</td>\n",
       "                        <td id=\"T_264b65c8_f354_11e9_b032_7470fdc90652row10_col3\" class=\"data row10 col3\" >0.0021</td>\n",
       "                        <td id=\"T_264b65c8_f354_11e9_b032_7470fdc90652row10_col4\" class=\"data row10 col4\" >-0.028</td>\n",
       "                        <td id=\"T_264b65c8_f354_11e9_b032_7470fdc90652row10_col5\" class=\"data row10 col5\" >0.028</td>\n",
       "                        <td id=\"T_264b65c8_f354_11e9_b032_7470fdc90652row10_col6\" class=\"data row10 col6\" >-0.11</td>\n",
       "                        <td id=\"T_264b65c8_f354_11e9_b032_7470fdc90652row10_col7\" class=\"data row10 col7\" >0.0064</td>\n",
       "                        <td id=\"T_264b65c8_f354_11e9_b032_7470fdc90652row10_col8\" class=\"data row10 col8\" >-0.029</td>\n",
       "                        <td id=\"T_264b65c8_f354_11e9_b032_7470fdc90652row10_col9\" class=\"data row10 col9\" >0.063</td>\n",
       "                        <td id=\"T_264b65c8_f354_11e9_b032_7470fdc90652row10_col10\" class=\"data row10 col10\" >1</td>\n",
       "            </tr>\n",
       "    </tbody></table>"
      ],
      "text/plain": [
       "<pandas.io.formats.style.Styler at 0x1ac0afb3a58>"
      ]
     },
     "execution_count": 109,
     "metadata": {},
     "output_type": "execute_result"
    }
   ],
   "source": [
    "#Reduced \n",
    "corr = data.corr()\n",
    "corr.style.background_gradient(cmap='viridis').set_precision(2)"
   ]
  },
  {
   "cell_type": "code",
   "execution_count": 28,
   "metadata": {},
   "outputs": [
    {
     "data": {
      "text/plain": [
       "85.100000     375750\n",
       "28.350000     366302\n",
       "76.300000     352603\n",
       "59.609119     333614\n",
       "107.700000    272592\n",
       "Name: price, dtype: int64"
      ]
     },
     "execution_count": 28,
     "metadata": {},
     "output_type": "execute_result"
    }
   ],
   "source": [
    "#Check Price\n",
    "check_price = data['price'].value_counts()\n",
    "check_price.head()"
   ]
  },
  {
   "cell_type": "code",
   "execution_count": 29,
   "metadata": {},
   "outputs": [
    {
     "data": {
      "text/plain": [
       "64.10     1\n",
       "102.20    1\n",
       "57.05     1\n",
       "59.11     1\n",
       "14.60     1\n",
       "Name: price, dtype: int64"
      ]
     },
     "execution_count": 29,
     "metadata": {},
     "output_type": "execute_result"
    }
   ],
   "source": [
    "check_price.tail()"
   ]
  },
  {
   "cell_type": "markdown",
   "metadata": {
    "jupyter": {
     "source_hidden": true
    }
   },
   "source": [
    "Let's take a closer at price, it seems to be numerical, but with a certain number of categories.\n",
    "\n",
    "We will need to process the categorical data to be ready for input. The usual way to do that is to use OneHotEncoder, this is good for saving memory."
   ]
  },
  {
   "cell_type": "markdown",
   "metadata": {
    "jupyter": {
     "source_hidden": true
    }
   },
   "source": [
    "_OneHotEncoding:_ is a process by which categorical variables are converted into a form that could be provided to ML algorithms to do a better job in predictions. "
   ]
  },
  {
   "cell_type": "markdown",
   "metadata": {},
   "source": [
    "### Predictions "
   ]
  },
  {
   "cell_type": "markdown",
   "metadata": {},
   "source": [
    "To make predictions in this case by price, so let's take price column into another dataframe"
   ]
  },
  {
   "cell_type": "code",
   "execution_count": 30,
   "metadata": {},
   "outputs": [],
   "source": [
    "x = data.drop('price', axis = 1)\n",
    "y = data.price"
   ]
  },
  {
   "cell_type": "code",
   "execution_count": 31,
   "metadata": {},
   "outputs": [
    {
     "data": {
      "text/plain": [
       "0     68.95\n",
       "1     75.40\n",
       "2    106.75\n",
       "3     90.50\n",
       "Name: price, dtype: float64"
      ]
     },
     "execution_count": 31,
     "metadata": {},
     "output_type": "execute_result"
    }
   ],
   "source": [
    "y.head(4)\n",
    "#x.head"
   ]
  },
  {
   "cell_type": "code",
   "execution_count": 33,
   "metadata": {},
   "outputs": [],
   "source": [
    "#Estimators and metrics \n",
    "\n",
    "import sklearn \n",
    "from sklearn.preprocessing import OneHotEncoder\n",
    "from sklearn.model_selection import train_test_split\n",
    "from sklearn.metrics import mean_squared_error\n",
    "from sklearn.metrics import r2_score\n",
    "from math import sqrt \n",
    "from sklearn.linear_model import LinearRegression\n",
    "from lightgbm import LGBMRegressor\n",
    "from sklearn.model_selection import cross_val_score"
   ]
  },
  {
   "cell_type": "code",
   "execution_count": 34,
   "metadata": {},
   "outputs": [],
   "source": [
    "x = x.drop(['insert_date', 'start_date','end_date'],axis=1)"
   ]
  },
  {
   "cell_type": "code",
   "execution_count": 35,
   "metadata": {},
   "outputs": [],
   "source": [
    "onehot = OneHotEncoder()\n",
    "x = onehot.fit_transform(x.values)"
   ]
  },
  {
   "cell_type": "markdown",
   "metadata": {},
   "source": [
    "**BUILDING THE MODELS AND CHOOSING THE RIGHT MODEL**"
   ]
  },
  {
   "cell_type": "code",
   "execution_count": 37,
   "metadata": {},
   "outputs": [],
   "source": [
    "#SPLIT DATA IN TRAINING AND TESTING \n",
    "x_train, x_test, y_train, y_test = train_test_split (x, y)"
   ]
  },
  {
   "cell_type": "markdown",
   "metadata": {},
   "source": [
    "*Linear Regression*"
   ]
  },
  {
   "cell_type": "code",
   "execution_count": 38,
   "metadata": {
    "collapsed": true,
    "jupyter": {
     "outputs_hidden": true
    }
   },
   "outputs": [
    {
     "data": {
      "text/plain": [
       "LinearRegression(copy_X=True, fit_intercept=True, n_jobs=None, normalize=False)"
      ]
     },
     "execution_count": 38,
     "metadata": {},
     "output_type": "execute_result"
    }
   ],
   "source": [
    "lr = LinearRegression()\n",
    "lr.fit(x_train, y_train)"
   ]
  },
  {
   "cell_type": "code",
   "execution_count": null,
   "metadata": {},
   "outputs": [],
   "source": [
    "#print(cross_val_score (lr, x_train, y_train))\n",
    "#[0.84180068 0.84133448 0.84125023]"
   ]
  },
  {
   "cell_type": "code",
   "execution_count": 41,
   "metadata": {},
   "outputs": [
    {
     "data": {
      "text/plain": [
       "0.8413764183741541"
      ]
     },
     "execution_count": 41,
     "metadata": {},
     "output_type": "execute_result"
    }
   ],
   "source": [
    "#Simple score method that we can use om the trained model \n",
    "lr.score(x_test, y_test) "
   ]
  },
  {
   "cell_type": "markdown",
   "metadata": {},
   "source": [
    "*Gradient Boosting*"
   ]
  },
  {
   "cell_type": "code",
   "execution_count": 54,
   "metadata": {
    "collapsed": true,
    "jupyter": {
     "outputs_hidden": true
    }
   },
   "outputs": [
    {
     "name": "stdout",
     "output_type": "stream",
     "text": [
      "Wall time: 4min 27s\n"
     ]
    },
    {
     "data": {
      "text/plain": [
       "LGBMRegressor(boosting_type='gbdt', class_weight=None, colsample_bytree=1.0,\n",
       "              importance_type='split', learning_rate=0.1, max_depth=-1,\n",
       "              min_child_samples=20, min_child_weight=0.001, min_split_gain=0.0,\n",
       "              n_estimators=1000, n_jobs=-1, num_leaves=31, objective=None,\n",
       "              random_state=None, reg_alpha=0.0, reg_lambda=0.0, silent=True,\n",
       "              subsample=1.0, subsample_for_bin=200000, subsample_freq=0)"
      ]
     },
     "execution_count": 54,
     "metadata": {},
     "output_type": "execute_result"
    }
   ],
   "source": [
    "%%time\n",
    "gb = LGBMRegressor(n_estimators = 1000)\n",
    "gb.fit(x_train, y_train)"
   ]
  },
  {
   "cell_type": "code",
   "execution_count": 1,
   "metadata": {},
   "outputs": [],
   "source": [
    "#print(cross_val_score (gb, x_train, y_train))\n",
    "#[0.94165198 0.94223392 0.94138204]"
   ]
  },
  {
   "cell_type": "code",
   "execution_count": 58,
   "metadata": {},
   "outputs": [
    {
     "data": {
      "text/plain": [
       "0.9421566870075536"
      ]
     },
     "execution_count": 58,
     "metadata": {},
     "output_type": "execute_result"
    }
   ],
   "source": [
    "#Simple score method that we can use om the trained model \n",
    "gb.score(x_test, y_test) #0.94"
   ]
  },
  {
   "cell_type": "code",
   "execution_count": null,
   "metadata": {},
   "outputs": [],
   "source": [
    "#Now we can choose the model with the best score and lets test the predictive ability of the model by predicting the prices"
   ]
  },
  {
   "cell_type": "markdown",
   "metadata": {},
   "source": [
    "#### *Make Predictions* "
   ]
  },
  {
   "cell_type": "code",
   "execution_count": 59,
   "metadata": {},
   "outputs": [
    {
     "name": "stdout",
     "output_type": "stream",
     "text": [
      "R Squared: 0.942\n",
      "RMSE: 6.003\n"
     ]
    }
   ],
   "source": [
    "predictions = gb.predict(x_test)\n",
    "predRsquared = r2_score(y_test, predictions)\n",
    "rmse = sqrt(mean_squared_error(y_test, predictions))\n",
    "print('R Squared: %.3f' % predRsquared)\n",
    "print('RMSE: %.3f' % rmse)"
   ]
  },
  {
   "cell_type": "markdown",
   "metadata": {},
   "source": [
    "#### *Plotting Results*"
   ]
  },
  {
   "cell_type": "code",
   "execution_count": 143,
   "metadata": {},
   "outputs": [
    {
     "data": {
      "text/plain": [
       "[Text(0.5, 1.0, 'Compare prices predictions and real ')]"
      ]
     },
     "execution_count": 143,
     "metadata": {},
     "output_type": "execute_result"
    },
    {
     "data": {
      "image/png": "[encoded data removed]",
      "text/plain": [
       "<Figure size 1080x360 with 1 Axes>"
      ]
     },
     "metadata": {
      "needs_background": "light"
     },
     "output_type": "display_data"
    }
   ],
   "source": [
    "fig,axs = plt.subplots(ncols=1,nrows=1,figsize=(15,5))\n",
    "ax = sns.scatterplot(px[:100],test_p[:100],label=\"Predicted\")\n",
    "ax = sns.scatterplot(px[:100],y_test[:100],label=\"Real\")\n",
    "ax.set(title=\"Final Visualization \")"
   ]
  },
  {
   "cell_type": "markdown",
   "metadata": {},
   "source": [
    "##### *Conclusion*\n",
    "\n",
    "* The model Gradient Boosting has good predictive ability.\n",
    "\n",
    "* We were able to fit the price of the train tickets with an R2 of 94%, this is a very good fit.\n",
    "\n",
    "* The price of tickets changes according to demand and time."
   ]
  }
 ],
 "metadata": {
  "celltoolbar": "Hide code",
  "kernelspec": {
   "display_name": "Python 3",
   "language": "python",
   "name": "python3"
  },
  "language_info": {
   "codemirror_mode": {
    "name": "ipython",
    "version": 3
   },
   "file_extension": ".py",
   "mimetype": "text/x-python",
   "name": "python",
   "nbconvert_exporter": "python",
   "pygments_lexer": "ipython3",
   "version": "3.7.3"
  }
 },
 "nbformat": 4,
 "nbformat_minor": 4
}
